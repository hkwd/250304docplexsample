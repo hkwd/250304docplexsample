{
 "cells": [
  {
   "attachments": {},
   "cell_type": "markdown",
   "metadata": {},
   "source": [
    "# 倉庫問題¶\n",
    "倉庫問題は、多くの教科書で取り上げられるよく知られた最適化事例です。 問題は、候補となる倉庫の場所のセットと店舗のセットが与えられた場合に、どの倉庫をオープンし、どの倉庫がどの店舗にサービスを提供するかを決定することで構成されます。\n",
    "\n",
    "## 入力データ¶\n",
    "データは次のように提供されます。\n",
    "\n",
    "- 各倉庫にはタプル (名前、容量、固定コスト) が必要です。名前は倉庫の一意の名前、容量は供給できる店舗の最大数、固定コストは倉庫を開くために発生するコストです。\n",
    "- 各カップル (倉庫、店舗) について、この倉庫によってこの店舗に供給するコストを見積もる Supply_cost。\n",
    "データを表現するコンパクトな方法は Python 辞書です。倉庫タプルごとに、すべての店舗のすべての供給コストをリストします。\n",
    "\n",
    "## ビジネス上の決定¶\n",
    "問題は、どの倉庫をオープンするか、また店舗ごとにどの倉庫から商品を供給するかを決定することにあります。\n",
    "\n",
    "## ビジネス上の制約¶\n",
    "決定は、次の (単純化された) ビジネス制約を満たす必要があります。\n",
    "\n",
    "1. 統一性: 各店舗は 1 つの固有の倉庫から供給されます\n",
    "2. 店舗はオープン倉庫によってのみ供給可能です\n",
    "3. 容量: 倉庫が供給する店舗の数はその容量よりも少なくなければなりません\n",
    "\n",
    "## ビジネス目標¶\n",
    "目標は、意思決定によって発生する次の 2 つのコストからなる総コストを最小限に抑えることです。\n",
    "\n",
    "- 合計開設コストは、すべての開いている倉庫にわたる開設コストの合計です。\n",
    "- 総供給コストは、選択したすべての (倉庫、店舗) ペアの供給コストの合計です。\n"
   ]
  },
  {
   "attachments": {},
   "cell_type": "markdown",
   "metadata": {},
   "source": [
    "https://ibmdecisionoptimization.github.io/docplex-doc/mp/warehouse.html"
   ]
  },
  {
   "cell_type": "markdown",
   "metadata": {},
   "source": [
    "# ライブラリーのインポート"
   ]
  },
  {
   "cell_type": "code",
   "execution_count": null,
   "metadata": {},
   "outputs": [],
   "source": [
    "#ライブラリーのインポート\n",
    "try:\n",
    "    import docplex.mp\n",
    "except:\n",
    "    !pip install docplex\n",
    "from docplex.mp.environment import Environment\n",
    "env = Environment()\n",
    "env.print_information()\n",
    "\n"
   ]
  },
  {
   "attachments": {},
   "cell_type": "markdown",
   "metadata": {},
   "source": [
    "まず、小さなウェアハウス データセットを定義しましょう。"
   ]
  },
  {
   "cell_type": "code",
   "execution_count": 2,
   "metadata": {},
   "outputs": [
    {
     "name": "stdout",
     "output_type": "stream",
     "text": [
      "{('Bonn', 1, 20): [20, 28, 74, 2, 46, 42, 1, 10, 93, 47], ('Bordeaux', 4, 35): [24, 27, 97, 55, 96, 22, 5, 73, 35, 65], ('Brussels', 2, 28): [30, 74, 70, 61, 34, 59, 56, 96, 46, 95], ('London', 2, 32): [11, 82, 71, 73, 59, 29, 73, 13, 63, 55], ('Paris', 1, 37): [25, 83, 96, 69, 83, 67, 59, 43, 85, 71], ('Rome', 2, 25): [30, 74, 70, 61, 54, 59, 56, 96, 46, 95]}\n",
      "#candidate warehouses=6\n",
      "#stores to supply=10\n"
     ]
    }
   ],
   "source": [
    "#倉庫情報：許容店舗数、固定費、各店舗と倉庫間の輸送費\n",
    "WAREHOUSES = {\n",
    "    ('Bonn', 1, 20): [20, 28, 74, 2, 46, 42, 1, 10, 93, 47],\n",
    "    ('Bordeaux', 4, 35): [24, 27, 97, 55, 96, 22, 5, 73, 35, 65],\n",
    "    ('Brussels', 2, 28): [30, 74, 70, 61, 34, 59, 56, 96, 46, 95],\n",
    "    ('London', 2, 32): [11, 82, 71, 73, 59, 29, 73, 13, 63, 55],\n",
    "    ('Paris', 1, 37): [25, 83, 96, 69, 83, 67, 59, 43, 85, 71],\n",
    "    ('Rome', 2, 25): [30, 74, 70, 61, 54, 59, 56, 96, 46, 95]\n",
    "}\n",
    "\n",
    "print(WAREHOUSES)\n",
    "print(\"#candidate warehouses=%d\" % len(WAREHOUSES))\n",
    "print(\"#stores to supply=%d\" % len(list(WAREHOUSES.values())[0]))"
   ]
  },
  {
   "cell_type": "code",
   "execution_count": 3,
   "metadata": {},
   "outputs": [
    {
     "data": {
      "text/plain": [
       "[[20, 28, 74, 2, 46, 42, 1, 10, 93, 47],\n",
       " [24, 27, 97, 55, 96, 22, 5, 73, 35, 65],\n",
       " [30, 74, 70, 61, 34, 59, 56, 96, 46, 95],\n",
       " [11, 82, 71, 73, 59, 29, 73, 13, 63, 55],\n",
       " [25, 83, 96, 69, 83, 67, 59, 43, 85, 71],\n",
       " [30, 74, 70, 61, 54, 59, 56, 96, 46, 95]]"
      ]
     },
     "execution_count": 3,
     "metadata": {},
     "output_type": "execute_result"
    }
   ],
   "source": [
    "#len(WAREHOUSES[('Bonn', 1, 20)])\n",
    "#WAREHOUSES.values()\n",
    "#itervalues(WAREHOUSES).next()\n",
    "list(WAREHOUSES.values())"
   ]
  },
  {
   "attachments": {},
   "cell_type": "markdown",
   "metadata": {},
   "source": [
    "ディクショナリ内の各キーは、名前 (文字列)、容量 (正の整数)、および固定コスト (これも正) の 3 つのフィールドを持つタプルです。 各値は長さ 10 (提供するストアの数) のリストです。 リストの k^ 番目の要素は、倉庫から k^ 番目の店舗までの供給コストです。 例えば、\n",
    "\n",
    "- ロンドンの倉庫は最大 2 店舗で供給可能\n",
    "- ロンドン倉庫の開設コストは32です\n",
    "- ロンドンからの店舗1への供給にかかるコストは 11 です。"
   ]
  },
  {
   "cell_type": "code",
   "execution_count": 4,
   "metadata": {},
   "outputs": [
    {
     "data": {
      "application/vnd.microsoft.datawrangler.viewer.v0+json": {
       "columns": [
        {
         "name": "index",
         "rawType": "int64",
         "type": "integer"
        },
        {
         "name": "('Bonn', 1, 20)",
         "rawType": "int64",
         "type": "integer"
        },
        {
         "name": "('Bordeaux', 4, 35)",
         "rawType": "int64",
         "type": "integer"
        },
        {
         "name": "('Brussels', 2, 28)",
         "rawType": "int64",
         "type": "integer"
        },
        {
         "name": "('London', 2, 32)",
         "rawType": "int64",
         "type": "integer"
        },
        {
         "name": "('Paris', 1, 37)",
         "rawType": "int64",
         "type": "integer"
        },
        {
         "name": "('Rome', 2, 25)",
         "rawType": "int64",
         "type": "integer"
        }
       ],
       "conversionMethod": "pd.DataFrame",
       "ref": "a8a8efa9-5d9b-4aa9-810c-b26bd2b215a6",
       "rows": [
        [
         "1",
         "20",
         "24",
         "30",
         "11",
         "25",
         "30"
        ],
        [
         "2",
         "28",
         "27",
         "74",
         "82",
         "83",
         "74"
        ],
        [
         "3",
         "74",
         "97",
         "70",
         "71",
         "96",
         "70"
        ],
        [
         "4",
         "2",
         "55",
         "61",
         "73",
         "69",
         "61"
        ],
        [
         "5",
         "46",
         "96",
         "34",
         "59",
         "83",
         "54"
        ],
        [
         "6",
         "42",
         "22",
         "59",
         "29",
         "67",
         "59"
        ],
        [
         "7",
         "1",
         "5",
         "56",
         "73",
         "59",
         "56"
        ],
        [
         "8",
         "10",
         "73",
         "96",
         "13",
         "43",
         "96"
        ],
        [
         "9",
         "93",
         "35",
         "46",
         "63",
         "85",
         "46"
        ],
        [
         "10",
         "47",
         "65",
         "95",
         "55",
         "71",
         "95"
        ]
       ],
       "shape": {
        "columns": 6,
        "rows": 10
       }
      },
      "text/html": [
       "<div>\n",
       "<style scoped>\n",
       "    .dataframe tbody tr th:only-of-type {\n",
       "        vertical-align: middle;\n",
       "    }\n",
       "\n",
       "    .dataframe tbody tr th {\n",
       "        vertical-align: top;\n",
       "    }\n",
       "\n",
       "    .dataframe thead tr th {\n",
       "        text-align: left;\n",
       "    }\n",
       "</style>\n",
       "<table border=\"1\" class=\"dataframe\">\n",
       "  <thead>\n",
       "    <tr>\n",
       "      <th></th>\n",
       "      <th>Bonn</th>\n",
       "      <th>Bordeaux</th>\n",
       "      <th>Brussels</th>\n",
       "      <th>London</th>\n",
       "      <th>Paris</th>\n",
       "      <th>Rome</th>\n",
       "    </tr>\n",
       "    <tr>\n",
       "      <th></th>\n",
       "      <th>1</th>\n",
       "      <th>4</th>\n",
       "      <th>2</th>\n",
       "      <th>2</th>\n",
       "      <th>1</th>\n",
       "      <th>2</th>\n",
       "    </tr>\n",
       "    <tr>\n",
       "      <th></th>\n",
       "      <th>20</th>\n",
       "      <th>35</th>\n",
       "      <th>28</th>\n",
       "      <th>32</th>\n",
       "      <th>37</th>\n",
       "      <th>25</th>\n",
       "    </tr>\n",
       "  </thead>\n",
       "  <tbody>\n",
       "    <tr>\n",
       "      <th>1</th>\n",
       "      <td>20</td>\n",
       "      <td>24</td>\n",
       "      <td>30</td>\n",
       "      <td>11</td>\n",
       "      <td>25</td>\n",
       "      <td>30</td>\n",
       "    </tr>\n",
       "    <tr>\n",
       "      <th>2</th>\n",
       "      <td>28</td>\n",
       "      <td>27</td>\n",
       "      <td>74</td>\n",
       "      <td>82</td>\n",
       "      <td>83</td>\n",
       "      <td>74</td>\n",
       "    </tr>\n",
       "    <tr>\n",
       "      <th>3</th>\n",
       "      <td>74</td>\n",
       "      <td>97</td>\n",
       "      <td>70</td>\n",
       "      <td>71</td>\n",
       "      <td>96</td>\n",
       "      <td>70</td>\n",
       "    </tr>\n",
       "    <tr>\n",
       "      <th>4</th>\n",
       "      <td>2</td>\n",
       "      <td>55</td>\n",
       "      <td>61</td>\n",
       "      <td>73</td>\n",
       "      <td>69</td>\n",
       "      <td>61</td>\n",
       "    </tr>\n",
       "    <tr>\n",
       "      <th>5</th>\n",
       "      <td>46</td>\n",
       "      <td>96</td>\n",
       "      <td>34</td>\n",
       "      <td>59</td>\n",
       "      <td>83</td>\n",
       "      <td>54</td>\n",
       "    </tr>\n",
       "    <tr>\n",
       "      <th>6</th>\n",
       "      <td>42</td>\n",
       "      <td>22</td>\n",
       "      <td>59</td>\n",
       "      <td>29</td>\n",
       "      <td>67</td>\n",
       "      <td>59</td>\n",
       "    </tr>\n",
       "    <tr>\n",
       "      <th>7</th>\n",
       "      <td>1</td>\n",
       "      <td>5</td>\n",
       "      <td>56</td>\n",
       "      <td>73</td>\n",
       "      <td>59</td>\n",
       "      <td>56</td>\n",
       "    </tr>\n",
       "    <tr>\n",
       "      <th>8</th>\n",
       "      <td>10</td>\n",
       "      <td>73</td>\n",
       "      <td>96</td>\n",
       "      <td>13</td>\n",
       "      <td>43</td>\n",
       "      <td>96</td>\n",
       "    </tr>\n",
       "    <tr>\n",
       "      <th>9</th>\n",
       "      <td>93</td>\n",
       "      <td>35</td>\n",
       "      <td>46</td>\n",
       "      <td>63</td>\n",
       "      <td>85</td>\n",
       "      <td>46</td>\n",
       "    </tr>\n",
       "    <tr>\n",
       "      <th>10</th>\n",
       "      <td>47</td>\n",
       "      <td>65</td>\n",
       "      <td>95</td>\n",
       "      <td>55</td>\n",
       "      <td>71</td>\n",
       "      <td>95</td>\n",
       "    </tr>\n",
       "  </tbody>\n",
       "</table>\n",
       "</div>"
      ],
      "text/plain": [
       "   Bonn Bordeaux Brussels London Paris Rome\n",
       "      1        4        2      2     1    2\n",
       "     20       35       28     32    37   25\n",
       "1    20       24       30     11    25   30\n",
       "2    28       27       74     82    83   74\n",
       "3    74       97       70     71    96   70\n",
       "4     2       55       61     73    69   61\n",
       "5    46       96       34     59    83   54\n",
       "6    42       22       59     29    67   59\n",
       "7     1        5       56     73    59   56\n",
       "8    10       73       96     13    43   96\n",
       "9    93       35       46     63    85   46\n",
       "10   47       65       95     55    71   95"
      ]
     },
     "execution_count": 4,
     "metadata": {},
     "output_type": "execute_result"
    }
   ],
   "source": [
    "#pandasで表として表示\n",
    "import pandas as pd\n",
    "df=pd.DataFrame(WAREHOUSES)\n",
    "df.index = df.index + 1\n",
    "df"
   ]
  },
  {
   "attachments": {},
   "cell_type": "markdown",
   "metadata": {},
   "source": [
    "# 数理モデル\n",
    "# DOcplex による解決¶\n",
    "では、DOcplex を使用してこの問題を解決しましょう。 まず、倉庫や店舗に関する情報を明確かつ便利な方法で保存するための名前付きタプルを定義します。"
   ]
  },
  {
   "cell_type": "code",
   "execution_count": 5,
   "metadata": {},
   "outputs": [],
   "source": [
    "from collections import namedtuple\n",
    "# 倉庫のクラス\n",
    "class TWareHouse(namedtuple(\"TWarehouse1\", [\"id\", \"capacity\", \"fixed_cost\"])):\n",
    "    def __str__(self):\n",
    "        return self.id\n",
    "# 店舗IDのクラス\n",
    "class TStore(namedtuple(\"TStore1\", [\"id\"])):\n",
    "    def __str__(self):\n",
    "        return 'store_%d' % self.id"
   ]
  },
  {
   "attachments": {},
   "cell_type": "markdown",
   "metadata": {},
   "source": [
    "次に、ウェアハウスとストアのタプルのセットを計算します。 six モジュールの itervalue の使用は、Python 2 と Python3 間での移植性を確保するための技術です。 便宜上、1 から nb_stores までの整数範囲でストアをモデル化することにしました。"
   ]
  },
  {
   "cell_type": "code",
   "execution_count": 6,
   "metadata": {},
   "outputs": [],
   "source": [
    "from six import itervalues\n",
    "\n",
    "# 店舗数\n",
    "nb_stores = 0 if not WAREHOUSES else len(next(itervalues(WAREHOUSES)))\n",
    "# 倉庫;許容店舗数と固定費を含む名前付きタプルとして定義\n",
    "warehouses = [TWareHouse(*wrow) for wrow in WAREHOUSES.keys()]\n",
    "# 輸送コスト;倉庫ディクショナリをそのまま使用\n",
    "supply_costs = WAREHOUSES\n",
    "# 店舗IDのリスト;便宜上、storesは0からではなく1からNSTORESまでカウントします\n",
    "stores = [TStore(idx) for idx in range(1, nb_stores + 1)]"
   ]
  },
  {
   "cell_type": "code",
   "execution_count": 7,
   "metadata": {},
   "outputs": [
    {
     "name": "stdout",
     "output_type": "stream",
     "text": [
      "Bonn\n",
      "store_1\n"
     ]
    }
   ],
   "source": [
    "# 名前付きタプルの中身確認\n",
    "print(warehouses[0])\n",
    "print(stores[0])"
   ]
  },
  {
   "cell_type": "markdown",
   "metadata": {},
   "source": [
    "# モデル作成\n",
    "\n",
    "まず、モデリング成果物を保存するためのモデルのインスタンスが 1 つ必要です。"
   ]
  },
  {
   "cell_type": "code",
   "execution_count": 8,
   "metadata": {},
   "outputs": [],
   "source": [
    "#モデルオブジェクト作成\n",
    "from docplex.mp.model import Model\n",
    "warehouse_model = Model()"
   ]
  },
  {
   "attachments": {},
   "cell_type": "markdown",
   "metadata": {},
   "source": [
    "# 決定変数の定義\n",
    "DOcplex では、意思決定変数はビジネス モデルのオブジェクトに関連付けられます。 私たちの場合、どの倉庫が開いているか、そして各店舗のどの倉庫から商品が供給されているかという 2 つの決定を下す必要があります。\n",
    "\n",
    "まず、倉庫ごとに 1 つのバイナリ (はい/いいえ) 決定変数を作成します。この変数は、倉庫が開いている場合にのみ 1 になります。 モデル オブジェクトの binary_var_dict メソッドを使用して、ウェアハウスから変数へのディクショナリを作成します。 最初の引数は、辞書のキーがウェアハウス オブジェクトになることを示します。 2 番目の引数は単純な文字列 *'open' です。これは、ウェアハウス オブジェクトの文字列表現 (言い換えれば、str() Python 関数の出力) を 'open' に接尾辞として付けて、変数の名前を生成するために使用されます。 最初にクラス TWarehouse の **str** メソッドを再定義した理由。"
   ]
  },
  {
   "cell_type": "code",
   "execution_count": 9,
   "metadata": {},
   "outputs": [],
   "source": [
    "open_vars = warehouse_model.binary_var_dict(keys=warehouses, name='open')"
   ]
  },
  {
   "cell_type": "code",
   "execution_count": 10,
   "metadata": {},
   "outputs": [
    {
     "name": "stdout",
     "output_type": "stream",
     "text": [
      "{TWareHouse(id='Bonn', capacity=1, fixed_cost=20): docplex.mp.Var(type=B,name='open_Bonn'), TWareHouse(id='Bordeaux', capacity=4, fixed_cost=35): docplex.mp.Var(type=B,name='open_Bordeaux'), TWareHouse(id='Brussels', capacity=2, fixed_cost=28): docplex.mp.Var(type=B,name='open_Brussels'), TWareHouse(id='London', capacity=2, fixed_cost=32): docplex.mp.Var(type=B,name='open_London'), TWareHouse(id='Paris', capacity=1, fixed_cost=37): docplex.mp.Var(type=B,name='open_Paris'), TWareHouse(id='Rome', capacity=2, fixed_cost=25): docplex.mp.Var(type=B,name='open_Rome')}\n"
     ]
    }
   ],
   "source": [
    "print(open_vars)"
   ]
  },
  {
   "attachments": {},
   "cell_type": "markdown",
   "metadata": {},
   "source": [
    "次に、ペア (倉庫、店舗) ごとに 1 つのバイナリ変数を定義します。 これは、binary_var_matrix メソッドを使用して行われます。 この場合、変数へのキーはすべて (倉庫、店舗) のペアになります。\n",
    "\n",
    "命名スキームはペアの両方のコンポーネントに適用されます。たとえば、ロンドンの倉庫供給店舗 1 が Supply_London_store_1 と名付けられるかどうかを決定する変数です。"
   ]
  },
  {
   "cell_type": "code",
   "execution_count": 11,
   "metadata": {},
   "outputs": [],
   "source": [
    "supply_vars = warehouse_model.binary_var_matrix(keys1=warehouses, keys2=stores, name='supply')"
   ]
  },
  {
   "cell_type": "code",
   "execution_count": 12,
   "metadata": {},
   "outputs": [
    {
     "name": "stdout",
     "output_type": "stream",
     "text": [
      "{(TWareHouse(id='Bonn', capacity=1, fixed_cost=20), TStore(id=1)): docplex.mp.Var(type=B,name='supply_Bonn_store_1'), (TWareHouse(id='Bonn', capacity=1, fixed_cost=20), TStore(id=2)): docplex.mp.Var(type=B,name='supply_Bonn_store_2'), (TWareHouse(id='Bonn', capacity=1, fixed_cost=20), TStore(id=3)): docplex.mp.Var(type=B,name='supply_Bonn_store_3'), (TWareHouse(id='Bonn', capacity=1, fixed_cost=20), TStore(id=4)): docplex.mp.Var(type=B,name='supply_Bonn_store_4'), (TWareHouse(id='Bonn', capacity=1, fixed_cost=20), TStore(id=5)): docplex.mp.Var(type=B,name='supply_Bonn_store_5'), (TWareHouse(id='Bonn', capacity=1, fixed_cost=20), TStore(id=6)): docplex.mp.Var(type=B,name='supply_Bonn_store_6'), (TWareHouse(id='Bonn', capacity=1, fixed_cost=20), TStore(id=7)): docplex.mp.Var(type=B,name='supply_Bonn_store_7'), (TWareHouse(id='Bonn', capacity=1, fixed_cost=20), TStore(id=8)): docplex.mp.Var(type=B,name='supply_Bonn_store_8'), (TWareHouse(id='Bonn', capacity=1, fixed_cost=20), TStore(id=9)): docplex.mp.Var(type=B,name='supply_Bonn_store_9'), (TWareHouse(id='Bonn', capacity=1, fixed_cost=20), TStore(id=10)): docplex.mp.Var(type=B,name='supply_Bonn_store_10'), (TWareHouse(id='Bordeaux', capacity=4, fixed_cost=35), TStore(id=1)): docplex.mp.Var(type=B,name='supply_Bordeaux_store_1'), (TWareHouse(id='Bordeaux', capacity=4, fixed_cost=35), TStore(id=2)): docplex.mp.Var(type=B,name='supply_Bordeaux_store_2'), (TWareHouse(id='Bordeaux', capacity=4, fixed_cost=35), TStore(id=3)): docplex.mp.Var(type=B,name='supply_Bordeaux_store_3'), (TWareHouse(id='Bordeaux', capacity=4, fixed_cost=35), TStore(id=4)): docplex.mp.Var(type=B,name='supply_Bordeaux_store_4'), (TWareHouse(id='Bordeaux', capacity=4, fixed_cost=35), TStore(id=5)): docplex.mp.Var(type=B,name='supply_Bordeaux_store_5'), (TWareHouse(id='Bordeaux', capacity=4, fixed_cost=35), TStore(id=6)): docplex.mp.Var(type=B,name='supply_Bordeaux_store_6'), (TWareHouse(id='Bordeaux', capacity=4, fixed_cost=35), TStore(id=7)): docplex.mp.Var(type=B,name='supply_Bordeaux_store_7'), (TWareHouse(id='Bordeaux', capacity=4, fixed_cost=35), TStore(id=8)): docplex.mp.Var(type=B,name='supply_Bordeaux_store_8'), (TWareHouse(id='Bordeaux', capacity=4, fixed_cost=35), TStore(id=9)): docplex.mp.Var(type=B,name='supply_Bordeaux_store_9'), (TWareHouse(id='Bordeaux', capacity=4, fixed_cost=35), TStore(id=10)): docplex.mp.Var(type=B,name='supply_Bordeaux_store_10'), (TWareHouse(id='Brussels', capacity=2, fixed_cost=28), TStore(id=1)): docplex.mp.Var(type=B,name='supply_Brussels_store_1'), (TWareHouse(id='Brussels', capacity=2, fixed_cost=28), TStore(id=2)): docplex.mp.Var(type=B,name='supply_Brussels_store_2'), (TWareHouse(id='Brussels', capacity=2, fixed_cost=28), TStore(id=3)): docplex.mp.Var(type=B,name='supply_Brussels_store_3'), (TWareHouse(id='Brussels', capacity=2, fixed_cost=28), TStore(id=4)): docplex.mp.Var(type=B,name='supply_Brussels_store_4'), (TWareHouse(id='Brussels', capacity=2, fixed_cost=28), TStore(id=5)): docplex.mp.Var(type=B,name='supply_Brussels_store_5'), (TWareHouse(id='Brussels', capacity=2, fixed_cost=28), TStore(id=6)): docplex.mp.Var(type=B,name='supply_Brussels_store_6'), (TWareHouse(id='Brussels', capacity=2, fixed_cost=28), TStore(id=7)): docplex.mp.Var(type=B,name='supply_Brussels_store_7'), (TWareHouse(id='Brussels', capacity=2, fixed_cost=28), TStore(id=8)): docplex.mp.Var(type=B,name='supply_Brussels_store_8'), (TWareHouse(id='Brussels', capacity=2, fixed_cost=28), TStore(id=9)): docplex.mp.Var(type=B,name='supply_Brussels_store_9'), (TWareHouse(id='Brussels', capacity=2, fixed_cost=28), TStore(id=10)): docplex.mp.Var(type=B,name='supply_Brussels_store_10'), (TWareHouse(id='London', capacity=2, fixed_cost=32), TStore(id=1)): docplex.mp.Var(type=B,name='supply_London_store_1'), (TWareHouse(id='London', capacity=2, fixed_cost=32), TStore(id=2)): docplex.mp.Var(type=B,name='supply_London_store_2'), (TWareHouse(id='London', capacity=2, fixed_cost=32), TStore(id=3)): docplex.mp.Var(type=B,name='supply_London_store_3'), (TWareHouse(id='London', capacity=2, fixed_cost=32), TStore(id=4)): docplex.mp.Var(type=B,name='supply_London_store_4'), (TWareHouse(id='London', capacity=2, fixed_cost=32), TStore(id=5)): docplex.mp.Var(type=B,name='supply_London_store_5'), (TWareHouse(id='London', capacity=2, fixed_cost=32), TStore(id=6)): docplex.mp.Var(type=B,name='supply_London_store_6'), (TWareHouse(id='London', capacity=2, fixed_cost=32), TStore(id=7)): docplex.mp.Var(type=B,name='supply_London_store_7'), (TWareHouse(id='London', capacity=2, fixed_cost=32), TStore(id=8)): docplex.mp.Var(type=B,name='supply_London_store_8'), (TWareHouse(id='London', capacity=2, fixed_cost=32), TStore(id=9)): docplex.mp.Var(type=B,name='supply_London_store_9'), (TWareHouse(id='London', capacity=2, fixed_cost=32), TStore(id=10)): docplex.mp.Var(type=B,name='supply_London_store_10'), (TWareHouse(id='Paris', capacity=1, fixed_cost=37), TStore(id=1)): docplex.mp.Var(type=B,name='supply_Paris_store_1'), (TWareHouse(id='Paris', capacity=1, fixed_cost=37), TStore(id=2)): docplex.mp.Var(type=B,name='supply_Paris_store_2'), (TWareHouse(id='Paris', capacity=1, fixed_cost=37), TStore(id=3)): docplex.mp.Var(type=B,name='supply_Paris_store_3'), (TWareHouse(id='Paris', capacity=1, fixed_cost=37), TStore(id=4)): docplex.mp.Var(type=B,name='supply_Paris_store_4'), (TWareHouse(id='Paris', capacity=1, fixed_cost=37), TStore(id=5)): docplex.mp.Var(type=B,name='supply_Paris_store_5'), (TWareHouse(id='Paris', capacity=1, fixed_cost=37), TStore(id=6)): docplex.mp.Var(type=B,name='supply_Paris_store_6'), (TWareHouse(id='Paris', capacity=1, fixed_cost=37), TStore(id=7)): docplex.mp.Var(type=B,name='supply_Paris_store_7'), (TWareHouse(id='Paris', capacity=1, fixed_cost=37), TStore(id=8)): docplex.mp.Var(type=B,name='supply_Paris_store_8'), (TWareHouse(id='Paris', capacity=1, fixed_cost=37), TStore(id=9)): docplex.mp.Var(type=B,name='supply_Paris_store_9'), (TWareHouse(id='Paris', capacity=1, fixed_cost=37), TStore(id=10)): docplex.mp.Var(type=B,name='supply_Paris_store_10'), (TWareHouse(id='Rome', capacity=2, fixed_cost=25), TStore(id=1)): docplex.mp.Var(type=B,name='supply_Rome_store_1'), (TWareHouse(id='Rome', capacity=2, fixed_cost=25), TStore(id=2)): docplex.mp.Var(type=B,name='supply_Rome_store_2'), (TWareHouse(id='Rome', capacity=2, fixed_cost=25), TStore(id=3)): docplex.mp.Var(type=B,name='supply_Rome_store_3'), (TWareHouse(id='Rome', capacity=2, fixed_cost=25), TStore(id=4)): docplex.mp.Var(type=B,name='supply_Rome_store_4'), (TWareHouse(id='Rome', capacity=2, fixed_cost=25), TStore(id=5)): docplex.mp.Var(type=B,name='supply_Rome_store_5'), (TWareHouse(id='Rome', capacity=2, fixed_cost=25), TStore(id=6)): docplex.mp.Var(type=B,name='supply_Rome_store_6'), (TWareHouse(id='Rome', capacity=2, fixed_cost=25), TStore(id=7)): docplex.mp.Var(type=B,name='supply_Rome_store_7'), (TWareHouse(id='Rome', capacity=2, fixed_cost=25), TStore(id=8)): docplex.mp.Var(type=B,name='supply_Rome_store_8'), (TWareHouse(id='Rome', capacity=2, fixed_cost=25), TStore(id=9)): docplex.mp.Var(type=B,name='supply_Rome_store_9'), (TWareHouse(id='Rome', capacity=2, fixed_cost=25), TStore(id=10)): docplex.mp.Var(type=B,name='supply_Rome_store_10')}\n"
     ]
    }
   ],
   "source": [
    "print(supply_vars)"
   ]
  },
  {
   "attachments": {},
   "cell_type": "markdown",
   "metadata": {},
   "source": [
    "このステップでは、定義した変数の数を確認できます。 倉庫が6個と店舗が 10個あるため、6*10 + 6 = 66 個のバイナリ変数が定義されていると予想されます。"
   ]
  },
  {
   "cell_type": "code",
   "execution_count": 13,
   "metadata": {},
   "outputs": [
    {
     "name": "stdout",
     "output_type": "stream",
     "text": [
      "Model: docplex_model1\n",
      " - number of variables: 66\n",
      "   - binary=66, integer=0, continuous=0\n",
      " - number of constraints: 0\n",
      "   - linear=0\n",
      " - parameters: defaults\n",
      " - objective: none\n",
      " - problem type is: MILP\n"
     ]
    }
   ],
   "source": [
    "warehouse_model.print_information()\n"
   ]
  },
  {
   "attachments": {},
   "cell_type": "markdown",
   "metadata": {},
   "source": [
    "予想どおり、まだ制約を定義していません。"
   ]
  },
  {
   "attachments": {},
   "cell_type": "markdown",
   "metadata": {},
   "source": [
    "# 制約の定義\n",
    "最初の制約は、各店舗が 1 つの倉庫からのみ供給されることを示しています。 言い換えると、すべての倉庫にわたる特定の店舗の供給変数の合計は 1 に等しくなければなりません。モデル情報を出力すると、このコードが 10 個の制約を定義していることを確認します。"
   ]
  },
  {
   "cell_type": "code",
   "execution_count": 14,
   "metadata": {},
   "outputs": [
    {
     "name": "stdout",
     "output_type": "stream",
     "text": [
      "Model: docplex_model1\n",
      " - number of variables: 66\n",
      "   - binary=66, integer=0, continuous=0\n",
      " - number of constraints: 10\n",
      "   - linear=10\n",
      " - parameters: defaults\n",
      " - objective: none\n",
      " - problem type is: MILP\n"
     ]
    }
   ],
   "source": [
    "# 制約1: 各店舗は一つの倉庫\n",
    "for s in stores:\n",
    "    warehouse_model.add_constraint(\n",
    "        warehouse_model.sum(supply_vars[w, s] for w in warehouses) == 1,\n",
    "        ctname=f'ct01_{str(s)}')\n",
    "\n",
    "warehouse_model.print_information()"
   ]
  },
  {
   "cell_type": "code",
   "execution_count": 15,
   "metadata": {},
   "outputs": [
    {
     "name": "stdout",
     "output_type": "stream",
     "text": [
      "ct01_store_1: supply_Bonn_store_1+supply_Bordeaux_store_1+supply_Brussels_store_1+supply_London_store_1+supply_Paris_store_1+supply_Rome_store_1 == 1\n",
      "ct01_store_2: supply_Bonn_store_2+supply_Bordeaux_store_2+supply_Brussels_store_2+supply_London_store_2+supply_Paris_store_2+supply_Rome_store_2 == 1\n",
      "ct01_store_3: supply_Bonn_store_3+supply_Bordeaux_store_3+supply_Brussels_store_3+supply_London_store_3+supply_Paris_store_3+supply_Rome_store_3 == 1\n",
      "ct01_store_4: supply_Bonn_store_4+supply_Bordeaux_store_4+supply_Brussels_store_4+supply_London_store_4+supply_Paris_store_4+supply_Rome_store_4 == 1\n",
      "ct01_store_5: supply_Bonn_store_5+supply_Bordeaux_store_5+supply_Brussels_store_5+supply_London_store_5+supply_Paris_store_5+supply_Rome_store_5 == 1\n",
      "ct01_store_6: supply_Bonn_store_6+supply_Bordeaux_store_6+supply_Brussels_store_6+supply_London_store_6+supply_Paris_store_6+supply_Rome_store_6 == 1\n",
      "ct01_store_7: supply_Bonn_store_7+supply_Bordeaux_store_7+supply_Brussels_store_7+supply_London_store_7+supply_Paris_store_7+supply_Rome_store_7 == 1\n",
      "ct01_store_8: supply_Bonn_store_8+supply_Bordeaux_store_8+supply_Brussels_store_8+supply_London_store_8+supply_Paris_store_8+supply_Rome_store_8 == 1\n",
      "ct01_store_9: supply_Bonn_store_9+supply_Bordeaux_store_9+supply_Brussels_store_9+supply_London_store_9+supply_Paris_store_9+supply_Rome_store_9 == 1\n",
      "ct01_store_10: supply_Bonn_store_10+supply_Bordeaux_store_10+supply_Brussels_store_10+supply_London_store_10+supply_Paris_store_10+supply_Rome_store_10 == 1\n"
     ]
    }
   ],
   "source": [
    "for s in stores:\n",
    "    print(warehouse_model.get_constraint_by_name(f'ct01_{str(s)}'))"
   ]
  },
  {
   "attachments": {},
   "cell_type": "markdown",
   "metadata": {},
   "source": [
    "2 番目の制約は、店舗はオープン倉庫によってのみ供給できることを示しています。 これをモデル化するには、ちょっとした論理のトリックを使用します。次のように、この論理的含意 (w が s を供給) => w がバイナリ変数間の不等式に変換されます。"
   ]
  },
  {
   "cell_type": "code",
   "execution_count": 16,
   "metadata": {},
   "outputs": [
    {
     "name": "stdout",
     "output_type": "stream",
     "text": [
      "Model: docplex_model1\n",
      " - number of variables: 66\n",
      "   - binary=66, integer=0, continuous=0\n",
      " - number of constraints: 70\n",
      "   - linear=70\n",
      " - parameters: defaults\n",
      " - objective: none\n",
      " - problem type is: MILP\n"
     ]
    }
   ],
   "source": [
    "# 制約2: 開設した倉庫のみを利用\n",
    "for w in warehouses:\n",
    "    for s in stores:\n",
    "        warehouse_model.add_constraint(\n",
    "            supply_vars[w, s] <= open_vars[w],\n",
    "            ctname=f'ct02_{str(w)}_{str(s)}')\n",
    "\n",
    "warehouse_model.print_information()"
   ]
  },
  {
   "cell_type": "code",
   "execution_count": 17,
   "metadata": {},
   "outputs": [
    {
     "name": "stdout",
     "output_type": "stream",
     "text": [
      "ct02_Bonn_store_1: supply_Bonn_store_1 <= open_Bonn\n",
      "ct02_Bonn_store_2: supply_Bonn_store_2 <= open_Bonn\n",
      "ct02_Bonn_store_3: supply_Bonn_store_3 <= open_Bonn\n",
      "ct02_Bonn_store_4: supply_Bonn_store_4 <= open_Bonn\n",
      "ct02_Bonn_store_5: supply_Bonn_store_5 <= open_Bonn\n",
      "ct02_Bonn_store_6: supply_Bonn_store_6 <= open_Bonn\n",
      "ct02_Bonn_store_7: supply_Bonn_store_7 <= open_Bonn\n",
      "ct02_Bonn_store_8: supply_Bonn_store_8 <= open_Bonn\n",
      "ct02_Bonn_store_9: supply_Bonn_store_9 <= open_Bonn\n",
      "ct02_Bonn_store_10: supply_Bonn_store_10 <= open_Bonn\n",
      "ct02_Bordeaux_store_1: supply_Bordeaux_store_1 <= open_Bordeaux\n",
      "ct02_Bordeaux_store_2: supply_Bordeaux_store_2 <= open_Bordeaux\n",
      "ct02_Bordeaux_store_3: supply_Bordeaux_store_3 <= open_Bordeaux\n",
      "ct02_Bordeaux_store_4: supply_Bordeaux_store_4 <= open_Bordeaux\n",
      "ct02_Bordeaux_store_5: supply_Bordeaux_store_5 <= open_Bordeaux\n",
      "ct02_Bordeaux_store_6: supply_Bordeaux_store_6 <= open_Bordeaux\n",
      "ct02_Bordeaux_store_7: supply_Bordeaux_store_7 <= open_Bordeaux\n",
      "ct02_Bordeaux_store_8: supply_Bordeaux_store_8 <= open_Bordeaux\n",
      "ct02_Bordeaux_store_9: supply_Bordeaux_store_9 <= open_Bordeaux\n",
      "ct02_Bordeaux_store_10: supply_Bordeaux_store_10 <= open_Bordeaux\n",
      "ct02_Brussels_store_1: supply_Brussels_store_1 <= open_Brussels\n",
      "ct02_Brussels_store_2: supply_Brussels_store_2 <= open_Brussels\n",
      "ct02_Brussels_store_3: supply_Brussels_store_3 <= open_Brussels\n",
      "ct02_Brussels_store_4: supply_Brussels_store_4 <= open_Brussels\n",
      "ct02_Brussels_store_5: supply_Brussels_store_5 <= open_Brussels\n",
      "ct02_Brussels_store_6: supply_Brussels_store_6 <= open_Brussels\n",
      "ct02_Brussels_store_7: supply_Brussels_store_7 <= open_Brussels\n",
      "ct02_Brussels_store_8: supply_Brussels_store_8 <= open_Brussels\n",
      "ct02_Brussels_store_9: supply_Brussels_store_9 <= open_Brussels\n",
      "ct02_Brussels_store_10: supply_Brussels_store_10 <= open_Brussels\n",
      "ct02_London_store_1: supply_London_store_1 <= open_London\n",
      "ct02_London_store_2: supply_London_store_2 <= open_London\n",
      "ct02_London_store_3: supply_London_store_3 <= open_London\n",
      "ct02_London_store_4: supply_London_store_4 <= open_London\n",
      "ct02_London_store_5: supply_London_store_5 <= open_London\n",
      "ct02_London_store_6: supply_London_store_6 <= open_London\n",
      "ct02_London_store_7: supply_London_store_7 <= open_London\n",
      "ct02_London_store_8: supply_London_store_8 <= open_London\n",
      "ct02_London_store_9: supply_London_store_9 <= open_London\n",
      "ct02_London_store_10: supply_London_store_10 <= open_London\n",
      "ct02_Paris_store_1: supply_Paris_store_1 <= open_Paris\n",
      "ct02_Paris_store_2: supply_Paris_store_2 <= open_Paris\n",
      "ct02_Paris_store_3: supply_Paris_store_3 <= open_Paris\n",
      "ct02_Paris_store_4: supply_Paris_store_4 <= open_Paris\n",
      "ct02_Paris_store_5: supply_Paris_store_5 <= open_Paris\n",
      "ct02_Paris_store_6: supply_Paris_store_6 <= open_Paris\n",
      "ct02_Paris_store_7: supply_Paris_store_7 <= open_Paris\n",
      "ct02_Paris_store_8: supply_Paris_store_8 <= open_Paris\n",
      "ct02_Paris_store_9: supply_Paris_store_9 <= open_Paris\n",
      "ct02_Paris_store_10: supply_Paris_store_10 <= open_Paris\n",
      "ct02_Rome_store_1: supply_Rome_store_1 <= open_Rome\n",
      "ct02_Rome_store_2: supply_Rome_store_2 <= open_Rome\n",
      "ct02_Rome_store_3: supply_Rome_store_3 <= open_Rome\n",
      "ct02_Rome_store_4: supply_Rome_store_4 <= open_Rome\n",
      "ct02_Rome_store_5: supply_Rome_store_5 <= open_Rome\n",
      "ct02_Rome_store_6: supply_Rome_store_6 <= open_Rome\n",
      "ct02_Rome_store_7: supply_Rome_store_7 <= open_Rome\n",
      "ct02_Rome_store_8: supply_Rome_store_8 <= open_Rome\n",
      "ct02_Rome_store_9: supply_Rome_store_9 <= open_Rome\n",
      "ct02_Rome_store_10: supply_Rome_store_10 <= open_Rome\n"
     ]
    }
   ],
   "source": [
    "# 制約2の表示\n",
    "for w in warehouses:\n",
    "    for s in stores:\n",
    "        print(warehouse_model.get_constraint_by_name(f'ct02_{str(w)}_{str(s)}'))\n",
    "        "
   ]
  },
  {
   "attachments": {},
   "cell_type": "markdown",
   "metadata": {},
   "source": [
    "倉庫 w からの供給変数が 1 に等しい場合、そのオープン変数も 1 に等しくなります。 逆に、オープン変数がゼロの場合、この倉庫のすべての供給変数はゼロになります。 この制約によって、店舗に供給しないオープン倉庫を使用することが妨げられるわけではありません。 これは追加の制約を追加することで対処できますが、そのようなケースは最小コストの検索によって自動的に排除されるため、これは必要ありません (目的のセクションを参照)。\n",
    "\n",
    "3 番目の制約は、各倉庫の容量制限を示します。 制約を表現するための論理演算子 <= のオーバーロードに注意してください。"
   ]
  },
  {
   "cell_type": "code",
   "execution_count": 18,
   "metadata": {},
   "outputs": [
    {
     "name": "stdout",
     "output_type": "stream",
     "text": [
      "Model: docplex_model1\n",
      " - number of variables: 66\n",
      "   - binary=66, integer=0, continuous=0\n",
      " - number of constraints: 76\n",
      "   - linear=76\n",
      " - parameters: defaults\n",
      " - objective: none\n",
      " - problem type is: MILP\n"
     ]
    }
   ],
   "source": [
    "# 制約3: 倉庫許容量以下の供給\n",
    "for w in warehouses:\n",
    "    warehouse_model.add_constraint(\n",
    "        warehouse_model.sum(supply_vars[w, s] for s in stores) <= w.capacity,\n",
    "        ctname=f'ct03_{str(w)}')\n",
    "\n",
    "warehouse_model.print_information()\n",
    "\n",
    "        "
   ]
  },
  {
   "cell_type": "code",
   "execution_count": 19,
   "metadata": {},
   "outputs": [
    {
     "name": "stdout",
     "output_type": "stream",
     "text": [
      "ct03_Bonn: supply_Bonn_store_1+supply_Bonn_store_2+supply_Bonn_store_3+supply_Bonn_store_4+supply_Bonn_store_5+supply_Bonn_store_6+supply_Bonn_store_7+supply_Bonn_store_8+supply_Bonn_store_9+supply_Bonn_store_10 <= 1\n",
      "ct03_Bordeaux: supply_Bordeaux_store_1+supply_Bordeaux_store_2+supply_Bordeaux_store_3+supply_Bordeaux_store_4+supply_Bordeaux_store_5+supply_Bordeaux_store_6+supply_Bordeaux_store_7+supply_Bordeaux_store_8+supply_Bordeaux_store_9+supply_Bordeaux_store_10 <= 4\n",
      "ct03_Brussels: supply_Brussels_store_1+supply_Brussels_store_2+supply_Brussels_store_3+supply_Brussels_store_4+supply_Brussels_store_5+supply_Brussels_store_6+supply_Brussels_store_7+supply_Brussels_store_8+supply_Brussels_store_9+supply_Brussels_store_10 <= 2\n",
      "ct03_London: supply_London_store_1+supply_London_store_2+supply_London_store_3+supply_London_store_4+supply_London_store_5+supply_London_store_6+supply_London_store_7+supply_London_store_8+supply_London_store_9+supply_London_store_10 <= 2\n",
      "ct03_Paris: supply_Paris_store_1+supply_Paris_store_2+supply_Paris_store_3+supply_Paris_store_4+supply_Paris_store_5+supply_Paris_store_6+supply_Paris_store_7+supply_Paris_store_8+supply_Paris_store_9+supply_Paris_store_10 <= 1\n",
      "ct03_Rome: supply_Rome_store_1+supply_Rome_store_2+supply_Rome_store_3+supply_Rome_store_4+supply_Rome_store_5+supply_Rome_store_6+supply_Rome_store_7+supply_Rome_store_8+supply_Rome_store_9+supply_Rome_store_10 <= 2\n"
     ]
    }
   ],
   "source": [
    "for w in warehouses:\n",
    "    print(warehouse_model.get_constraint_by_name(f'ct03_{str(w)}'))\n"
   ]
  },
  {
   "attachments": {},
   "cell_type": "markdown",
   "metadata": {},
   "source": [
    "# 目的の定義\n",
    "目的は、総コストを最小限に抑えることです。 コストは 2 つあります。\n",
    "\n",
    "倉庫を開くたびに発生する開設コスト\n",
    "倉庫を店舗に割り当てることで発生する供給コスト\n",
    "これら 2 つのコストをモデル化する 2 つの線形式を定義し、合計を最小化することが目的であると述べます。"
   ]
  },
  {
   "cell_type": "code",
   "execution_count": 20,
   "metadata": {},
   "outputs": [
    {
     "name": "stdout",
     "output_type": "stream",
     "text": [
      "20open_Bonn+35open_Bordeaux+28open_Brussels+32open_London+37open_Paris+25open_Rome\n"
     ]
    }
   ],
   "source": [
    "# 開設コスト\n",
    "total_opening_cost = warehouse_model.sum(open_vars[w] * w.fixed_cost for w in warehouses)\n",
    "print(total_opening_cost)"
   ]
  },
  {
   "cell_type": "code",
   "execution_count": 21,
   "metadata": {},
   "outputs": [
    {
     "name": "stdout",
     "output_type": "stream",
     "text": [
      "20supply_Bonn_store_1+28supply_Bonn_store_2+74supply_Bonn_store_3+2supply_Bonn_store_4+46supply_Bonn_store_5+42supply_Bonn_store_6+supply_Bonn_store_7+10supply_Bonn_store_8+93supply_Bonn_store_9+47supply_Bonn_store_10+24supply_Bordeaux_store_1+27supply_Bordeaux_store_2+97supply_Bordeaux_store_3+55supply_Bordeaux_store_4+96supply_Bordeaux_store_5+22supply_Bordeaux_store_6+5supply_Bordeaux_store_7+73supply_Bordeaux_store_8+35supply_Bordeaux_store_9+65supply_Bordeaux_store_10+30supply_Brussels_store_1+74supply_Brussels_store_2+70supply_Brussels_store_3+61supply_Brussels_store_4+34supply_Brussels_store_5+59supply_Brussels_store_6+56supply_Brussels_store_7+96supply_Brussels_store_8+46supply_Brussels_store_9+95supply_Brussels_store_10+11supply_London_store_1+82supply_London_store_2+71supply_London_store_3+73supply_London_store_4+59supply_London_store_5+29supply_London_store_6+73supply_London_store_7+13supply_London_store_8+63supply_London_store_9+55supply_London_store_10+25supply_Paris_store_1+83supply_Paris_store_2+96supply_Paris_store_3+69supply_Paris_store_4+83supply_Paris_store_5+67supply_Paris_store_6+59supply_Paris_store_7+43supply_Paris_store_8+85supply_Paris_store_9+71supply_Paris_store_10+30supply_Rome_store_1+74supply_Rome_store_2+70supply_Rome_store_3+61supply_Rome_store_4+54supply_Rome_store_5+59supply_Rome_store_6+56supply_Rome_store_7+96supply_Rome_store_8+46supply_Rome_store_9+95supply_Rome_store_10\n"
     ]
    }
   ],
   "source": [
    "# 輸送コスト\n",
    "\n",
    "total_supply_cost = warehouse_model.sum(\n",
    "    [supply_vars[w,s] * supply_costs[w][s.id - 1] for w in warehouses for s in stores])\n",
    "#total_supply_cost.name = \"Total Supply Cost\"\n",
    "\n",
    "print(total_supply_cost)"
   ]
  },
  {
   "cell_type": "code",
   "execution_count": 22,
   "metadata": {},
   "outputs": [
    {
     "name": "stdout",
     "output_type": "stream",
     "text": [
      "Model: docplex_model1\n",
      " - number of variables: 66\n",
      "   - binary=66, integer=0, continuous=0\n",
      " - number of constraints: 76\n",
      "   - linear=76\n",
      " - parameters: defaults\n",
      " - objective: minimize\n",
      " - problem type is: MILP\n"
     ]
    }
   ],
   "source": [
    "#目的関数\n",
    "warehouse_model.minimize(total_opening_cost + total_supply_cost)\n",
    "warehouse_model.print_information()"
   ]
  },
  {
   "cell_type": "code",
   "execution_count": null,
   "metadata": {},
   "outputs": [],
   "source": []
  },
  {
   "attachments": {},
   "cell_type": "markdown",
   "metadata": {},
   "source": [
    "モデルが完成したので、それを解決して最終的な最適な目標を得ることができます。"
   ]
  },
  {
   "attachments": {},
   "cell_type": "markdown",
   "metadata": {},
   "source": [
    "# モデルを解く"
   ]
  },
  {
   "cell_type": "code",
   "execution_count": 23,
   "metadata": {},
   "outputs": [
    {
     "name": "stdout",
     "output_type": "stream",
     "text": [
      "Version identifier: 22.1.1.0 | 2022-11-27 | 9160aff4d\n",
      "CPXPARAM_Read_DataCheck                          1\n",
      "Tried aggregator 1 time.\n",
      "MIP Presolve eliminated 20 rows and 0 columns.\n",
      "MIP Presolve modified 2 coefficients.\n",
      "Reduced MIP has 56 rows, 66 columns, and 202 nonzeros.\n",
      "Reduced MIP has 66 binaries, 0 generals, 0 SOSs, and 0 indicators.\n",
      "Presolve time = 0.00 sec. (0.16 ticks)\n",
      "Found incumbent of value 597.000000 after 0.02 sec. (0.35 ticks)\n",
      "Probing time = 0.00 sec. (0.05 ticks)\n",
      "Tried aggregator 1 time.\n",
      "Detecting symmetries...\n",
      "Reduced MIP has 56 rows, 66 columns, and 202 nonzeros.\n",
      "Reduced MIP has 66 binaries, 0 generals, 0 SOSs, and 0 indicators.\n",
      "Presolve time = 0.00 sec. (0.16 ticks)\n",
      "Probing time = 0.00 sec. (0.05 ticks)\n",
      "Clique table members: 52.\n",
      "MIP emphasis: balance optimality and feasibility.\n",
      "MIP search method: dynamic search.\n",
      "Parallel mode: deterministic, using up to 8 threads.\n",
      "Root relaxation solution time = 0.00 sec. (0.14 ticks)\n",
      "\n",
      "        Nodes                                         Cuts/\n",
      "   Node  Left     Objective  IInf  Best Integer    Best Bound    ItCnt     Gap\n",
      "\n",
      "*     0+    0                          597.0000        0.0000           100.00%\n",
      "*     0+    0                          516.0000        0.0000           100.00%\n",
      "*     0+    0                          491.0000        0.0000           100.00%\n",
      "      0     0      412.7500    13      491.0000      412.7500       28   15.94%\n",
      "*     0+    0                          456.0000      412.7500             9.48%\n",
      "*     0+    0                          433.0000      412.7500             4.68%\n",
      "      0     0      425.0000    16      433.0000       Cuts: 7       37    1.85%\n",
      "      0     0        cutoff            433.0000                     44    0.00%\n",
      "Elapsed time = 0.09 sec. (1.91 ticks, tree = 0.01 MB, solutions = 5)\n",
      "\n",
      "Implied bound cuts applied:  1\n",
      "Zero-half cuts applied:  2\n",
      "Lift and project cuts applied:  1\n",
      "Gomory fractional cuts applied:  1\n",
      "\n",
      "Root node processing (before b&c):\n",
      "  Real time             =    0.11 sec. (1.92 ticks)\n",
      "Parallel b&c, 8 threads:\n",
      "  Real time             =    0.00 sec. (0.00 ticks)\n",
      "  Sync time (average)   =    0.00 sec.\n",
      "  Wait time (average)   =    0.00 sec.\n",
      "                          ------------\n",
      "Total (root+branch&cut) =    0.11 sec. (1.92 ticks)\n"
     ]
    }
   ],
   "source": [
    "sol=warehouse_model.solve(log_output=True)\n"
   ]
  },
  {
   "cell_type": "code",
   "execution_count": 24,
   "metadata": {},
   "outputs": [
    {
     "data": {
      "text/plain": [
       "docplex.mp.SolveDetails(time=0.125,status='integer optimal solution')"
      ]
     },
     "execution_count": 24,
     "metadata": {},
     "output_type": "execute_result"
    }
   ],
   "source": [
    "warehouse_model.solve_details"
   ]
  },
  {
   "cell_type": "code",
   "execution_count": 25,
   "metadata": {},
   "outputs": [
    {
     "name": "stdout",
     "output_type": "stream",
     "text": [
      "objective: 433\n",
      "status: OPTIMAL_SOLUTION(2)\n",
      "  open_Bonn=1\n",
      "  open_Bordeaux=1\n",
      "  open_Brussels=1\n",
      "  open_London=1\n",
      "  open_Rome=1\n",
      "  supply_Bonn_store_4=1\n",
      "  supply_Bordeaux_store_2=1\n",
      "  supply_Bordeaux_store_6=1\n",
      "  supply_Bordeaux_store_7=1\n",
      "  supply_Bordeaux_store_9=1\n",
      "  supply_Brussels_store_1=1\n",
      "  supply_Brussels_store_5=1\n",
      "  supply_London_store_8=1\n",
      "  supply_London_store_10=1\n",
      "  supply_Rome_store_3=1\n"
     ]
    }
   ],
   "source": [
    "# 解の表示\n",
    "warehouse_model.print_solution()\n",
    "#warehouse_model.print_solution(print_zeros=True)"
   ]
  },
  {
   "cell_type": "code",
   "execution_count": 26,
   "metadata": {},
   "outputs": [
    {
     "name": "stdout",
     "output_type": "stream",
     "text": [
      "optimal objective is 433\n"
     ]
    }
   ],
   "source": [
    "# 目的関数の結果\n",
    "obj = warehouse_model.objective_value\n",
    "print(\"optimal objective is %g\" % obj)"
   ]
  },
  {
   "cell_type": "markdown",
   "metadata": {},
   "source": [
    "しかし、それだけではありません。2 つの式の値を評価することで、これら 2 つのコストの値を正確に知ることができます。 ここでは、開設コストが 140、供給コストが 293 であることがわかります。"
   ]
  },
  {
   "cell_type": "code",
   "execution_count": 27,
   "metadata": {},
   "outputs": [
    {
     "name": "stdout",
     "output_type": "stream",
     "text": [
      "total opening cost=140\n",
      "total supply cost=293\n"
     ]
    }
   ],
   "source": [
    "# 決定式\n",
    "opening_cost_obj = total_opening_cost.solution_value\n",
    "supply_cost_obj = total_supply_cost.solution_value\n",
    "print(\"total opening cost=%g\" % opening_cost_obj)\n",
    "print(\"total supply cost=%g\" % supply_cost_obj)\n",
    "\n",
    "# store results for later on...\n",
    "results=[]\n",
    "results.append((opening_cost_obj, supply_cost_obj))"
   ]
  },
  {
   "cell_type": "code",
   "execution_count": 28,
   "metadata": {},
   "outputs": [
    {
     "data": {
      "application/vnd.microsoft.datawrangler.viewer.v0+json": {
       "columns": [
        {
         "name": "index",
         "rawType": "int64",
         "type": "integer"
        },
        {
         "name": "warehouse",
         "rawType": "object",
         "type": "string"
        },
        {
         "name": "open",
         "rawType": "int64",
         "type": "integer"
        }
       ],
       "conversionMethod": "pd.DataFrame",
       "ref": "23e724ba-f2c1-4a51-8b11-627fb1bb80e6",
       "rows": [
        [
         "0",
         "Bonn",
         "1"
        ],
        [
         "1",
         "Bordeaux",
         "1"
        ],
        [
         "2",
         "Brussels",
         "1"
        ],
        [
         "3",
         "London",
         "1"
        ],
        [
         "4",
         "Paris",
         "0"
        ],
        [
         "5",
         "Rome",
         "1"
        ]
       ],
       "shape": {
        "columns": 2,
        "rows": 6
       }
      },
      "text/html": [
       "<div>\n",
       "<style scoped>\n",
       "    .dataframe tbody tr th:only-of-type {\n",
       "        vertical-align: middle;\n",
       "    }\n",
       "\n",
       "    .dataframe tbody tr th {\n",
       "        vertical-align: top;\n",
       "    }\n",
       "\n",
       "    .dataframe thead th {\n",
       "        text-align: right;\n",
       "    }\n",
       "</style>\n",
       "<table border=\"1\" class=\"dataframe\">\n",
       "  <thead>\n",
       "    <tr style=\"text-align: right;\">\n",
       "      <th></th>\n",
       "      <th>warehouse</th>\n",
       "      <th>open</th>\n",
       "    </tr>\n",
       "  </thead>\n",
       "  <tbody>\n",
       "    <tr>\n",
       "      <th>0</th>\n",
       "      <td>Bonn</td>\n",
       "      <td>1</td>\n",
       "    </tr>\n",
       "    <tr>\n",
       "      <th>1</th>\n",
       "      <td>Bordeaux</td>\n",
       "      <td>1</td>\n",
       "    </tr>\n",
       "    <tr>\n",
       "      <th>2</th>\n",
       "      <td>Brussels</td>\n",
       "      <td>1</td>\n",
       "    </tr>\n",
       "    <tr>\n",
       "      <th>3</th>\n",
       "      <td>London</td>\n",
       "      <td>1</td>\n",
       "    </tr>\n",
       "    <tr>\n",
       "      <th>4</th>\n",
       "      <td>Paris</td>\n",
       "      <td>0</td>\n",
       "    </tr>\n",
       "    <tr>\n",
       "      <th>5</th>\n",
       "      <td>Rome</td>\n",
       "      <td>1</td>\n",
       "    </tr>\n",
       "  </tbody>\n",
       "</table>\n",
       "</div>"
      ],
      "text/plain": [
       "  warehouse  open\n",
       "0      Bonn     1\n",
       "1  Bordeaux     1\n",
       "2  Brussels     1\n",
       "3    London     1\n",
       "4     Paris     0\n",
       "5      Rome     1"
      ]
     },
     "execution_count": 28,
     "metadata": {},
     "output_type": "execute_result"
    }
   ],
   "source": [
    "# 決定変数1: 倉庫の開設の有無\n",
    "import pandas as pd\n",
    "\n",
    "open_vars_w = [w.id for w in open_vars.keys()]\n",
    "open_vars_v = [round(v.solution_value) for v in open_vars.values()]\n",
    "\n",
    "pd.DataFrame({\"warehouse\": open_vars_w,\n",
    "              \"open\": open_vars_v})"
   ]
  },
  {
   "cell_type": "code",
   "execution_count": 29,
   "metadata": {},
   "outputs": [
    {
     "data": {
      "application/vnd.microsoft.datawrangler.viewer.v0+json": {
       "columns": [
        {
         "name": "index",
         "rawType": "int64",
         "type": "integer"
        },
        {
         "name": "warehouse",
         "rawType": "object",
         "type": "string"
        },
        {
         "name": "store",
         "rawType": "int64",
         "type": "integer"
        },
        {
         "name": "supply",
         "rawType": "int64",
         "type": "integer"
        }
       ],
       "conversionMethod": "pd.DataFrame",
       "ref": "6541a06d-8ef3-43a9-af71-a6169e77e2ce",
       "rows": [
        [
         "0",
         "Bonn",
         "1",
         "0"
        ],
        [
         "1",
         "Bonn",
         "2",
         "0"
        ],
        [
         "2",
         "Bonn",
         "3",
         "0"
        ],
        [
         "3",
         "Bonn",
         "4",
         "1"
        ],
        [
         "4",
         "Bonn",
         "5",
         "0"
        ],
        [
         "5",
         "Bonn",
         "6",
         "0"
        ],
        [
         "6",
         "Bonn",
         "7",
         "0"
        ],
        [
         "7",
         "Bonn",
         "8",
         "0"
        ],
        [
         "8",
         "Bonn",
         "9",
         "0"
        ],
        [
         "9",
         "Bonn",
         "10",
         "0"
        ],
        [
         "10",
         "Bordeaux",
         "1",
         "0"
        ],
        [
         "11",
         "Bordeaux",
         "2",
         "1"
        ],
        [
         "12",
         "Bordeaux",
         "3",
         "0"
        ],
        [
         "13",
         "Bordeaux",
         "4",
         "0"
        ],
        [
         "14",
         "Bordeaux",
         "5",
         "0"
        ],
        [
         "15",
         "Bordeaux",
         "6",
         "1"
        ],
        [
         "16",
         "Bordeaux",
         "7",
         "1"
        ],
        [
         "17",
         "Bordeaux",
         "8",
         "0"
        ],
        [
         "18",
         "Bordeaux",
         "9",
         "1"
        ],
        [
         "19",
         "Bordeaux",
         "10",
         "0"
        ],
        [
         "20",
         "Brussels",
         "1",
         "1"
        ],
        [
         "21",
         "Brussels",
         "2",
         "0"
        ],
        [
         "22",
         "Brussels",
         "3",
         "0"
        ],
        [
         "23",
         "Brussels",
         "4",
         "0"
        ],
        [
         "24",
         "Brussels",
         "5",
         "1"
        ],
        [
         "25",
         "Brussels",
         "6",
         "0"
        ],
        [
         "26",
         "Brussels",
         "7",
         "0"
        ],
        [
         "27",
         "Brussels",
         "8",
         "0"
        ],
        [
         "28",
         "Brussels",
         "9",
         "0"
        ],
        [
         "29",
         "Brussels",
         "10",
         "0"
        ],
        [
         "30",
         "London",
         "1",
         "0"
        ],
        [
         "31",
         "London",
         "2",
         "0"
        ],
        [
         "32",
         "London",
         "3",
         "0"
        ],
        [
         "33",
         "London",
         "4",
         "0"
        ],
        [
         "34",
         "London",
         "5",
         "0"
        ],
        [
         "35",
         "London",
         "6",
         "0"
        ],
        [
         "36",
         "London",
         "7",
         "0"
        ],
        [
         "37",
         "London",
         "8",
         "1"
        ],
        [
         "38",
         "London",
         "9",
         "0"
        ],
        [
         "39",
         "London",
         "10",
         "1"
        ],
        [
         "40",
         "Paris",
         "1",
         "0"
        ],
        [
         "41",
         "Paris",
         "2",
         "0"
        ],
        [
         "42",
         "Paris",
         "3",
         "0"
        ],
        [
         "43",
         "Paris",
         "4",
         "0"
        ],
        [
         "44",
         "Paris",
         "5",
         "0"
        ],
        [
         "45",
         "Paris",
         "6",
         "0"
        ],
        [
         "46",
         "Paris",
         "7",
         "0"
        ],
        [
         "47",
         "Paris",
         "8",
         "0"
        ],
        [
         "48",
         "Paris",
         "9",
         "0"
        ],
        [
         "49",
         "Paris",
         "10",
         "0"
        ]
       ],
       "shape": {
        "columns": 3,
        "rows": 60
       }
      },
      "text/html": [
       "<div>\n",
       "<style scoped>\n",
       "    .dataframe tbody tr th:only-of-type {\n",
       "        vertical-align: middle;\n",
       "    }\n",
       "\n",
       "    .dataframe tbody tr th {\n",
       "        vertical-align: top;\n",
       "    }\n",
       "\n",
       "    .dataframe thead th {\n",
       "        text-align: right;\n",
       "    }\n",
       "</style>\n",
       "<table border=\"1\" class=\"dataframe\">\n",
       "  <thead>\n",
       "    <tr style=\"text-align: right;\">\n",
       "      <th></th>\n",
       "      <th>warehouse</th>\n",
       "      <th>store</th>\n",
       "      <th>supply</th>\n",
       "    </tr>\n",
       "  </thead>\n",
       "  <tbody>\n",
       "    <tr>\n",
       "      <th>0</th>\n",
       "      <td>Bonn</td>\n",
       "      <td>1</td>\n",
       "      <td>0</td>\n",
       "    </tr>\n",
       "    <tr>\n",
       "      <th>1</th>\n",
       "      <td>Bonn</td>\n",
       "      <td>2</td>\n",
       "      <td>0</td>\n",
       "    </tr>\n",
       "    <tr>\n",
       "      <th>2</th>\n",
       "      <td>Bonn</td>\n",
       "      <td>3</td>\n",
       "      <td>0</td>\n",
       "    </tr>\n",
       "    <tr>\n",
       "      <th>3</th>\n",
       "      <td>Bonn</td>\n",
       "      <td>4</td>\n",
       "      <td>1</td>\n",
       "    </tr>\n",
       "    <tr>\n",
       "      <th>4</th>\n",
       "      <td>Bonn</td>\n",
       "      <td>5</td>\n",
       "      <td>0</td>\n",
       "    </tr>\n",
       "    <tr>\n",
       "      <th>5</th>\n",
       "      <td>Bonn</td>\n",
       "      <td>6</td>\n",
       "      <td>0</td>\n",
       "    </tr>\n",
       "    <tr>\n",
       "      <th>6</th>\n",
       "      <td>Bonn</td>\n",
       "      <td>7</td>\n",
       "      <td>0</td>\n",
       "    </tr>\n",
       "    <tr>\n",
       "      <th>7</th>\n",
       "      <td>Bonn</td>\n",
       "      <td>8</td>\n",
       "      <td>0</td>\n",
       "    </tr>\n",
       "    <tr>\n",
       "      <th>8</th>\n",
       "      <td>Bonn</td>\n",
       "      <td>9</td>\n",
       "      <td>0</td>\n",
       "    </tr>\n",
       "    <tr>\n",
       "      <th>9</th>\n",
       "      <td>Bonn</td>\n",
       "      <td>10</td>\n",
       "      <td>0</td>\n",
       "    </tr>\n",
       "    <tr>\n",
       "      <th>10</th>\n",
       "      <td>Bordeaux</td>\n",
       "      <td>1</td>\n",
       "      <td>0</td>\n",
       "    </tr>\n",
       "    <tr>\n",
       "      <th>11</th>\n",
       "      <td>Bordeaux</td>\n",
       "      <td>2</td>\n",
       "      <td>1</td>\n",
       "    </tr>\n",
       "    <tr>\n",
       "      <th>12</th>\n",
       "      <td>Bordeaux</td>\n",
       "      <td>3</td>\n",
       "      <td>0</td>\n",
       "    </tr>\n",
       "    <tr>\n",
       "      <th>13</th>\n",
       "      <td>Bordeaux</td>\n",
       "      <td>4</td>\n",
       "      <td>0</td>\n",
       "    </tr>\n",
       "    <tr>\n",
       "      <th>14</th>\n",
       "      <td>Bordeaux</td>\n",
       "      <td>5</td>\n",
       "      <td>0</td>\n",
       "    </tr>\n",
       "    <tr>\n",
       "      <th>15</th>\n",
       "      <td>Bordeaux</td>\n",
       "      <td>6</td>\n",
       "      <td>1</td>\n",
       "    </tr>\n",
       "    <tr>\n",
       "      <th>16</th>\n",
       "      <td>Bordeaux</td>\n",
       "      <td>7</td>\n",
       "      <td>1</td>\n",
       "    </tr>\n",
       "    <tr>\n",
       "      <th>17</th>\n",
       "      <td>Bordeaux</td>\n",
       "      <td>8</td>\n",
       "      <td>0</td>\n",
       "    </tr>\n",
       "    <tr>\n",
       "      <th>18</th>\n",
       "      <td>Bordeaux</td>\n",
       "      <td>9</td>\n",
       "      <td>1</td>\n",
       "    </tr>\n",
       "    <tr>\n",
       "      <th>19</th>\n",
       "      <td>Bordeaux</td>\n",
       "      <td>10</td>\n",
       "      <td>0</td>\n",
       "    </tr>\n",
       "    <tr>\n",
       "      <th>20</th>\n",
       "      <td>Brussels</td>\n",
       "      <td>1</td>\n",
       "      <td>1</td>\n",
       "    </tr>\n",
       "    <tr>\n",
       "      <th>21</th>\n",
       "      <td>Brussels</td>\n",
       "      <td>2</td>\n",
       "      <td>0</td>\n",
       "    </tr>\n",
       "    <tr>\n",
       "      <th>22</th>\n",
       "      <td>Brussels</td>\n",
       "      <td>3</td>\n",
       "      <td>0</td>\n",
       "    </tr>\n",
       "    <tr>\n",
       "      <th>23</th>\n",
       "      <td>Brussels</td>\n",
       "      <td>4</td>\n",
       "      <td>0</td>\n",
       "    </tr>\n",
       "    <tr>\n",
       "      <th>24</th>\n",
       "      <td>Brussels</td>\n",
       "      <td>5</td>\n",
       "      <td>1</td>\n",
       "    </tr>\n",
       "    <tr>\n",
       "      <th>25</th>\n",
       "      <td>Brussels</td>\n",
       "      <td>6</td>\n",
       "      <td>0</td>\n",
       "    </tr>\n",
       "    <tr>\n",
       "      <th>26</th>\n",
       "      <td>Brussels</td>\n",
       "      <td>7</td>\n",
       "      <td>0</td>\n",
       "    </tr>\n",
       "    <tr>\n",
       "      <th>27</th>\n",
       "      <td>Brussels</td>\n",
       "      <td>8</td>\n",
       "      <td>0</td>\n",
       "    </tr>\n",
       "    <tr>\n",
       "      <th>28</th>\n",
       "      <td>Brussels</td>\n",
       "      <td>9</td>\n",
       "      <td>0</td>\n",
       "    </tr>\n",
       "    <tr>\n",
       "      <th>29</th>\n",
       "      <td>Brussels</td>\n",
       "      <td>10</td>\n",
       "      <td>0</td>\n",
       "    </tr>\n",
       "    <tr>\n",
       "      <th>30</th>\n",
       "      <td>London</td>\n",
       "      <td>1</td>\n",
       "      <td>0</td>\n",
       "    </tr>\n",
       "    <tr>\n",
       "      <th>31</th>\n",
       "      <td>London</td>\n",
       "      <td>2</td>\n",
       "      <td>0</td>\n",
       "    </tr>\n",
       "    <tr>\n",
       "      <th>32</th>\n",
       "      <td>London</td>\n",
       "      <td>3</td>\n",
       "      <td>0</td>\n",
       "    </tr>\n",
       "    <tr>\n",
       "      <th>33</th>\n",
       "      <td>London</td>\n",
       "      <td>4</td>\n",
       "      <td>0</td>\n",
       "    </tr>\n",
       "    <tr>\n",
       "      <th>34</th>\n",
       "      <td>London</td>\n",
       "      <td>5</td>\n",
       "      <td>0</td>\n",
       "    </tr>\n",
       "    <tr>\n",
       "      <th>35</th>\n",
       "      <td>London</td>\n",
       "      <td>6</td>\n",
       "      <td>0</td>\n",
       "    </tr>\n",
       "    <tr>\n",
       "      <th>36</th>\n",
       "      <td>London</td>\n",
       "      <td>7</td>\n",
       "      <td>0</td>\n",
       "    </tr>\n",
       "    <tr>\n",
       "      <th>37</th>\n",
       "      <td>London</td>\n",
       "      <td>8</td>\n",
       "      <td>1</td>\n",
       "    </tr>\n",
       "    <tr>\n",
       "      <th>38</th>\n",
       "      <td>London</td>\n",
       "      <td>9</td>\n",
       "      <td>0</td>\n",
       "    </tr>\n",
       "    <tr>\n",
       "      <th>39</th>\n",
       "      <td>London</td>\n",
       "      <td>10</td>\n",
       "      <td>1</td>\n",
       "    </tr>\n",
       "    <tr>\n",
       "      <th>40</th>\n",
       "      <td>Paris</td>\n",
       "      <td>1</td>\n",
       "      <td>0</td>\n",
       "    </tr>\n",
       "    <tr>\n",
       "      <th>41</th>\n",
       "      <td>Paris</td>\n",
       "      <td>2</td>\n",
       "      <td>0</td>\n",
       "    </tr>\n",
       "    <tr>\n",
       "      <th>42</th>\n",
       "      <td>Paris</td>\n",
       "      <td>3</td>\n",
       "      <td>0</td>\n",
       "    </tr>\n",
       "    <tr>\n",
       "      <th>43</th>\n",
       "      <td>Paris</td>\n",
       "      <td>4</td>\n",
       "      <td>0</td>\n",
       "    </tr>\n",
       "    <tr>\n",
       "      <th>44</th>\n",
       "      <td>Paris</td>\n",
       "      <td>5</td>\n",
       "      <td>0</td>\n",
       "    </tr>\n",
       "    <tr>\n",
       "      <th>45</th>\n",
       "      <td>Paris</td>\n",
       "      <td>6</td>\n",
       "      <td>0</td>\n",
       "    </tr>\n",
       "    <tr>\n",
       "      <th>46</th>\n",
       "      <td>Paris</td>\n",
       "      <td>7</td>\n",
       "      <td>0</td>\n",
       "    </tr>\n",
       "    <tr>\n",
       "      <th>47</th>\n",
       "      <td>Paris</td>\n",
       "      <td>8</td>\n",
       "      <td>0</td>\n",
       "    </tr>\n",
       "    <tr>\n",
       "      <th>48</th>\n",
       "      <td>Paris</td>\n",
       "      <td>9</td>\n",
       "      <td>0</td>\n",
       "    </tr>\n",
       "    <tr>\n",
       "      <th>49</th>\n",
       "      <td>Paris</td>\n",
       "      <td>10</td>\n",
       "      <td>0</td>\n",
       "    </tr>\n",
       "    <tr>\n",
       "      <th>50</th>\n",
       "      <td>Rome</td>\n",
       "      <td>1</td>\n",
       "      <td>0</td>\n",
       "    </tr>\n",
       "    <tr>\n",
       "      <th>51</th>\n",
       "      <td>Rome</td>\n",
       "      <td>2</td>\n",
       "      <td>0</td>\n",
       "    </tr>\n",
       "    <tr>\n",
       "      <th>52</th>\n",
       "      <td>Rome</td>\n",
       "      <td>3</td>\n",
       "      <td>1</td>\n",
       "    </tr>\n",
       "    <tr>\n",
       "      <th>53</th>\n",
       "      <td>Rome</td>\n",
       "      <td>4</td>\n",
       "      <td>0</td>\n",
       "    </tr>\n",
       "    <tr>\n",
       "      <th>54</th>\n",
       "      <td>Rome</td>\n",
       "      <td>5</td>\n",
       "      <td>0</td>\n",
       "    </tr>\n",
       "    <tr>\n",
       "      <th>55</th>\n",
       "      <td>Rome</td>\n",
       "      <td>6</td>\n",
       "      <td>0</td>\n",
       "    </tr>\n",
       "    <tr>\n",
       "      <th>56</th>\n",
       "      <td>Rome</td>\n",
       "      <td>7</td>\n",
       "      <td>0</td>\n",
       "    </tr>\n",
       "    <tr>\n",
       "      <th>57</th>\n",
       "      <td>Rome</td>\n",
       "      <td>8</td>\n",
       "      <td>0</td>\n",
       "    </tr>\n",
       "    <tr>\n",
       "      <th>58</th>\n",
       "      <td>Rome</td>\n",
       "      <td>9</td>\n",
       "      <td>0</td>\n",
       "    </tr>\n",
       "    <tr>\n",
       "      <th>59</th>\n",
       "      <td>Rome</td>\n",
       "      <td>10</td>\n",
       "      <td>0</td>\n",
       "    </tr>\n",
       "  </tbody>\n",
       "</table>\n",
       "</div>"
      ],
      "text/plain": [
       "   warehouse  store  supply\n",
       "0       Bonn      1       0\n",
       "1       Bonn      2       0\n",
       "2       Bonn      3       0\n",
       "3       Bonn      4       1\n",
       "4       Bonn      5       0\n",
       "5       Bonn      6       0\n",
       "6       Bonn      7       0\n",
       "7       Bonn      8       0\n",
       "8       Bonn      9       0\n",
       "9       Bonn     10       0\n",
       "10  Bordeaux      1       0\n",
       "11  Bordeaux      2       1\n",
       "12  Bordeaux      3       0\n",
       "13  Bordeaux      4       0\n",
       "14  Bordeaux      5       0\n",
       "15  Bordeaux      6       1\n",
       "16  Bordeaux      7       1\n",
       "17  Bordeaux      8       0\n",
       "18  Bordeaux      9       1\n",
       "19  Bordeaux     10       0\n",
       "20  Brussels      1       1\n",
       "21  Brussels      2       0\n",
       "22  Brussels      3       0\n",
       "23  Brussels      4       0\n",
       "24  Brussels      5       1\n",
       "25  Brussels      6       0\n",
       "26  Brussels      7       0\n",
       "27  Brussels      8       0\n",
       "28  Brussels      9       0\n",
       "29  Brussels     10       0\n",
       "30    London      1       0\n",
       "31    London      2       0\n",
       "32    London      3       0\n",
       "33    London      4       0\n",
       "34    London      5       0\n",
       "35    London      6       0\n",
       "36    London      7       0\n",
       "37    London      8       1\n",
       "38    London      9       0\n",
       "39    London     10       1\n",
       "40     Paris      1       0\n",
       "41     Paris      2       0\n",
       "42     Paris      3       0\n",
       "43     Paris      4       0\n",
       "44     Paris      5       0\n",
       "45     Paris      6       0\n",
       "46     Paris      7       0\n",
       "47     Paris      8       0\n",
       "48     Paris      9       0\n",
       "49     Paris     10       0\n",
       "50      Rome      1       0\n",
       "51      Rome      2       0\n",
       "52      Rome      3       1\n",
       "53      Rome      4       0\n",
       "54      Rome      5       0\n",
       "55      Rome      6       0\n",
       "56      Rome      7       0\n",
       "57      Rome      8       0\n",
       "58      Rome      9       0\n",
       "59      Rome     10       0"
      ]
     },
     "execution_count": 29,
     "metadata": {},
     "output_type": "execute_result"
    }
   ],
   "source": [
    "# 決定変数2: 倉庫と店舗の供給の有無\n",
    "supply_vars_w = [k[0].id for k in supply_vars.keys()]\n",
    "supply_vars_s = [k[1].id for k in supply_vars.keys()]\n",
    "supply_vars_v = [round(v.solution_value) for v in supply_vars.values()]\n",
    "\n",
    "df_suuply = pd.DataFrame({\"warehouse\": supply_vars_w,\n",
    "                          \"store\": supply_vars_s,\n",
    "                         \"supply\": supply_vars_v})\n",
    "df_suuply"
   ]
  },
  {
   "cell_type": "code",
   "execution_count": 30,
   "metadata": {},
   "outputs": [
    {
     "data": {
      "application/vnd.microsoft.datawrangler.viewer.v0+json": {
       "columns": [
        {
         "name": "store",
         "rawType": "int64",
         "type": "integer"
        },
        {
         "name": "Bonn",
         "rawType": "int64",
         "type": "integer"
        },
        {
         "name": "Bordeaux",
         "rawType": "int64",
         "type": "integer"
        },
        {
         "name": "Brussels",
         "rawType": "int64",
         "type": "integer"
        },
        {
         "name": "London",
         "rawType": "int64",
         "type": "integer"
        },
        {
         "name": "Paris",
         "rawType": "int64",
         "type": "integer"
        },
        {
         "name": "Rome",
         "rawType": "int64",
         "type": "integer"
        }
       ],
       "conversionMethod": "pd.DataFrame",
       "ref": "2d363fc9-4556-44ac-8431-ae902d933b1e",
       "rows": [
        [
         "1",
         "0",
         "0",
         "1",
         "0",
         "0",
         "0"
        ],
        [
         "2",
         "0",
         "1",
         "0",
         "0",
         "0",
         "0"
        ],
        [
         "3",
         "0",
         "0",
         "0",
         "0",
         "0",
         "1"
        ],
        [
         "4",
         "1",
         "0",
         "0",
         "0",
         "0",
         "0"
        ],
        [
         "5",
         "0",
         "0",
         "1",
         "0",
         "0",
         "0"
        ],
        [
         "6",
         "0",
         "1",
         "0",
         "0",
         "0",
         "0"
        ],
        [
         "7",
         "0",
         "1",
         "0",
         "0",
         "0",
         "0"
        ],
        [
         "8",
         "0",
         "0",
         "0",
         "1",
         "0",
         "0"
        ],
        [
         "9",
         "0",
         "1",
         "0",
         "0",
         "0",
         "0"
        ],
        [
         "10",
         "0",
         "0",
         "0",
         "1",
         "0",
         "0"
        ]
       ],
       "shape": {
        "columns": 6,
        "rows": 10
       }
      },
      "text/html": [
       "<div>\n",
       "<style scoped>\n",
       "    .dataframe tbody tr th:only-of-type {\n",
       "        vertical-align: middle;\n",
       "    }\n",
       "\n",
       "    .dataframe tbody tr th {\n",
       "        vertical-align: top;\n",
       "    }\n",
       "\n",
       "    .dataframe thead th {\n",
       "        text-align: right;\n",
       "    }\n",
       "</style>\n",
       "<table border=\"1\" class=\"dataframe\">\n",
       "  <thead>\n",
       "    <tr style=\"text-align: right;\">\n",
       "      <th>warehouse</th>\n",
       "      <th>Bonn</th>\n",
       "      <th>Bordeaux</th>\n",
       "      <th>Brussels</th>\n",
       "      <th>London</th>\n",
       "      <th>Paris</th>\n",
       "      <th>Rome</th>\n",
       "    </tr>\n",
       "    <tr>\n",
       "      <th>store</th>\n",
       "      <th></th>\n",
       "      <th></th>\n",
       "      <th></th>\n",
       "      <th></th>\n",
       "      <th></th>\n",
       "      <th></th>\n",
       "    </tr>\n",
       "  </thead>\n",
       "  <tbody>\n",
       "    <tr>\n",
       "      <th>1</th>\n",
       "      <td>0</td>\n",
       "      <td>0</td>\n",
       "      <td>1</td>\n",
       "      <td>0</td>\n",
       "      <td>0</td>\n",
       "      <td>0</td>\n",
       "    </tr>\n",
       "    <tr>\n",
       "      <th>2</th>\n",
       "      <td>0</td>\n",
       "      <td>1</td>\n",
       "      <td>0</td>\n",
       "      <td>0</td>\n",
       "      <td>0</td>\n",
       "      <td>0</td>\n",
       "    </tr>\n",
       "    <tr>\n",
       "      <th>3</th>\n",
       "      <td>0</td>\n",
       "      <td>0</td>\n",
       "      <td>0</td>\n",
       "      <td>0</td>\n",
       "      <td>0</td>\n",
       "      <td>1</td>\n",
       "    </tr>\n",
       "    <tr>\n",
       "      <th>4</th>\n",
       "      <td>1</td>\n",
       "      <td>0</td>\n",
       "      <td>0</td>\n",
       "      <td>0</td>\n",
       "      <td>0</td>\n",
       "      <td>0</td>\n",
       "    </tr>\n",
       "    <tr>\n",
       "      <th>5</th>\n",
       "      <td>0</td>\n",
       "      <td>0</td>\n",
       "      <td>1</td>\n",
       "      <td>0</td>\n",
       "      <td>0</td>\n",
       "      <td>0</td>\n",
       "    </tr>\n",
       "    <tr>\n",
       "      <th>6</th>\n",
       "      <td>0</td>\n",
       "      <td>1</td>\n",
       "      <td>0</td>\n",
       "      <td>0</td>\n",
       "      <td>0</td>\n",
       "      <td>0</td>\n",
       "    </tr>\n",
       "    <tr>\n",
       "      <th>7</th>\n",
       "      <td>0</td>\n",
       "      <td>1</td>\n",
       "      <td>0</td>\n",
       "      <td>0</td>\n",
       "      <td>0</td>\n",
       "      <td>0</td>\n",
       "    </tr>\n",
       "    <tr>\n",
       "      <th>8</th>\n",
       "      <td>0</td>\n",
       "      <td>0</td>\n",
       "      <td>0</td>\n",
       "      <td>1</td>\n",
       "      <td>0</td>\n",
       "      <td>0</td>\n",
       "    </tr>\n",
       "    <tr>\n",
       "      <th>9</th>\n",
       "      <td>0</td>\n",
       "      <td>1</td>\n",
       "      <td>0</td>\n",
       "      <td>0</td>\n",
       "      <td>0</td>\n",
       "      <td>0</td>\n",
       "    </tr>\n",
       "    <tr>\n",
       "      <th>10</th>\n",
       "      <td>0</td>\n",
       "      <td>0</td>\n",
       "      <td>0</td>\n",
       "      <td>1</td>\n",
       "      <td>0</td>\n",
       "      <td>0</td>\n",
       "    </tr>\n",
       "  </tbody>\n",
       "</table>\n",
       "</div>"
      ],
      "text/plain": [
       "warehouse  Bonn  Bordeaux  Brussels  London  Paris  Rome\n",
       "store                                                   \n",
       "1             0         0         1       0      0     0\n",
       "2             0         1         0       0      0     0\n",
       "3             0         0         0       0      0     1\n",
       "4             1         0         0       0      0     0\n",
       "5             0         0         1       0      0     0\n",
       "6             0         1         0       0      0     0\n",
       "7             0         1         0       0      0     0\n",
       "8             0         0         0       1      0     0\n",
       "9             0         1         0       0      0     0\n",
       "10            0         0         0       1      0     0"
      ]
     },
     "execution_count": 30,
     "metadata": {},
     "output_type": "execute_result"
    }
   ],
   "source": [
    "# 決定変数2: 倉庫と店舗の供給の有無 Pivot\n",
    "df_suuply.pivot_table(values=\"supply\", index=\"store\", \n",
    "                     columns=\"warehouse\")"
   ]
  },
  {
   "cell_type": "code",
   "execution_count": 31,
   "metadata": {},
   "outputs": [
    {
     "data": {
      "application/vnd.microsoft.datawrangler.viewer.v0+json": {
       "columns": [
        {
         "name": "index",
         "rawType": "int64",
         "type": "integer"
        },
        {
         "name": "warehouse",
         "rawType": "object",
         "type": "string"
        },
        {
         "name": "store",
         "rawType": "int64",
         "type": "integer"
        },
        {
         "name": "ct",
         "rawType": "object",
         "type": "string"
        },
        {
         "name": "slack",
         "rawType": "float64",
         "type": "float"
        }
       ],
       "conversionMethod": "pd.DataFrame",
       "ref": "21c28ce2-0078-444d-a475-c7b48d74095d",
       "rows": [
        [
         "0",
         "Bonn",
         "1",
         " supply_Bonn_store_1 <= open_Bonn",
         "1.0"
        ],
        [
         "1",
         "Bonn",
         "2",
         " supply_Bonn_store_2 <= open_Bonn",
         "1.0"
        ],
        [
         "2",
         "Bonn",
         "3",
         " supply_Bonn_store_3 <= open_Bonn",
         "1.0"
        ],
        [
         "3",
         "Bonn",
         "4",
         " supply_Bonn_store_4 <= open_Bonn",
         "0.0"
        ],
        [
         "4",
         "Bonn",
         "5",
         " supply_Bonn_store_5 <= open_Bonn",
         "1.0"
        ],
        [
         "5",
         "Bonn",
         "6",
         " supply_Bonn_store_6 <= open_Bonn",
         "1.0"
        ],
        [
         "6",
         "Bonn",
         "7",
         " supply_Bonn_store_7 <= open_Bonn",
         "1.0"
        ],
        [
         "7",
         "Bonn",
         "8",
         " supply_Bonn_store_8 <= open_Bonn",
         "1.0"
        ],
        [
         "8",
         "Bonn",
         "9",
         " supply_Bonn_store_9 <= open_Bonn",
         "1.0"
        ],
        [
         "9",
         "Bonn",
         "10",
         " supply_Bonn_store_10 <= open_Bonn",
         "1.0"
        ],
        [
         "10",
         "Bordeaux",
         "1",
         " supply_Bordeaux_store_1 <= open_Bordeaux",
         "1.0"
        ],
        [
         "11",
         "Bordeaux",
         "2",
         " supply_Bordeaux_store_2 <= open_Bordeaux",
         "0.0"
        ],
        [
         "12",
         "Bordeaux",
         "3",
         " supply_Bordeaux_store_3 <= open_Bordeaux",
         "1.0"
        ],
        [
         "13",
         "Bordeaux",
         "4",
         " supply_Bordeaux_store_4 <= open_Bordeaux",
         "1.0"
        ],
        [
         "14",
         "Bordeaux",
         "5",
         " supply_Bordeaux_store_5 <= open_Bordeaux",
         "1.0"
        ],
        [
         "15",
         "Bordeaux",
         "6",
         " supply_Bordeaux_store_6 <= open_Bordeaux",
         "0.0"
        ],
        [
         "16",
         "Bordeaux",
         "7",
         " supply_Bordeaux_store_7 <= open_Bordeaux",
         "0.0"
        ],
        [
         "17",
         "Bordeaux",
         "8",
         " supply_Bordeaux_store_8 <= open_Bordeaux",
         "1.0"
        ],
        [
         "18",
         "Bordeaux",
         "9",
         " supply_Bordeaux_store_9 <= open_Bordeaux",
         "0.0"
        ],
        [
         "19",
         "Bordeaux",
         "10",
         " supply_Bordeaux_store_10 <= open_Bordeaux",
         "1.0"
        ],
        [
         "20",
         "Brussels",
         "1",
         " supply_Brussels_store_1 <= open_Brussels",
         "0.0"
        ],
        [
         "21",
         "Brussels",
         "2",
         " supply_Brussels_store_2 <= open_Brussels",
         "1.0"
        ],
        [
         "22",
         "Brussels",
         "3",
         " supply_Brussels_store_3 <= open_Brussels",
         "1.0"
        ],
        [
         "23",
         "Brussels",
         "4",
         " supply_Brussels_store_4 <= open_Brussels",
         "1.0"
        ],
        [
         "24",
         "Brussels",
         "5",
         " supply_Brussels_store_5 <= open_Brussels",
         "0.0"
        ],
        [
         "25",
         "Brussels",
         "6",
         " supply_Brussels_store_6 <= open_Brussels",
         "1.0"
        ],
        [
         "26",
         "Brussels",
         "7",
         " supply_Brussels_store_7 <= open_Brussels",
         "1.0"
        ],
        [
         "27",
         "Brussels",
         "8",
         " supply_Brussels_store_8 <= open_Brussels",
         "1.0"
        ],
        [
         "28",
         "Brussels",
         "9",
         " supply_Brussels_store_9 <= open_Brussels",
         "1.0"
        ],
        [
         "29",
         "Brussels",
         "10",
         " supply_Brussels_store_10 <= open_Brussels",
         "1.0"
        ],
        [
         "30",
         "London",
         "1",
         " supply_London_store_1 <= open_London",
         "1.0"
        ],
        [
         "31",
         "London",
         "2",
         " supply_London_store_2 <= open_London",
         "1.0"
        ],
        [
         "32",
         "London",
         "3",
         " supply_London_store_3 <= open_London",
         "1.0"
        ],
        [
         "33",
         "London",
         "4",
         " supply_London_store_4 <= open_London",
         "1.0"
        ],
        [
         "34",
         "London",
         "5",
         " supply_London_store_5 <= open_London",
         "1.0"
        ],
        [
         "35",
         "London",
         "6",
         " supply_London_store_6 <= open_London",
         "1.0"
        ],
        [
         "36",
         "London",
         "7",
         " supply_London_store_7 <= open_London",
         "1.0"
        ],
        [
         "37",
         "London",
         "8",
         " supply_London_store_8 <= open_London",
         "0.0"
        ],
        [
         "38",
         "London",
         "9",
         " supply_London_store_9 <= open_London",
         "1.0"
        ],
        [
         "39",
         "London",
         "10",
         " supply_London_store_10 <= open_London",
         "0.0"
        ],
        [
         "40",
         "Paris",
         "1",
         " supply_Paris_store_1 <= open_Paris",
         "0.0"
        ],
        [
         "41",
         "Paris",
         "2",
         " supply_Paris_store_2 <= open_Paris",
         "0.0"
        ],
        [
         "42",
         "Paris",
         "3",
         " supply_Paris_store_3 <= open_Paris",
         "0.0"
        ],
        [
         "43",
         "Paris",
         "4",
         " supply_Paris_store_4 <= open_Paris",
         "0.0"
        ],
        [
         "44",
         "Paris",
         "5",
         " supply_Paris_store_5 <= open_Paris",
         "0.0"
        ],
        [
         "45",
         "Paris",
         "6",
         " supply_Paris_store_6 <= open_Paris",
         "0.0"
        ],
        [
         "46",
         "Paris",
         "7",
         " supply_Paris_store_7 <= open_Paris",
         "0.0"
        ],
        [
         "47",
         "Paris",
         "8",
         " supply_Paris_store_8 <= open_Paris",
         "0.0"
        ],
        [
         "48",
         "Paris",
         "9",
         " supply_Paris_store_9 <= open_Paris",
         "0.0"
        ],
        [
         "49",
         "Paris",
         "10",
         " supply_Paris_store_10 <= open_Paris",
         "0.0"
        ]
       ],
       "shape": {
        "columns": 4,
        "rows": 60
       }
      },
      "text/html": [
       "<div>\n",
       "<style scoped>\n",
       "    .dataframe tbody tr th:only-of-type {\n",
       "        vertical-align: middle;\n",
       "    }\n",
       "\n",
       "    .dataframe tbody tr th {\n",
       "        vertical-align: top;\n",
       "    }\n",
       "\n",
       "    .dataframe thead th {\n",
       "        text-align: right;\n",
       "    }\n",
       "</style>\n",
       "<table border=\"1\" class=\"dataframe\">\n",
       "  <thead>\n",
       "    <tr style=\"text-align: right;\">\n",
       "      <th></th>\n",
       "      <th>warehouse</th>\n",
       "      <th>store</th>\n",
       "      <th>ct</th>\n",
       "      <th>slack</th>\n",
       "    </tr>\n",
       "  </thead>\n",
       "  <tbody>\n",
       "    <tr>\n",
       "      <th>0</th>\n",
       "      <td>Bonn</td>\n",
       "      <td>1</td>\n",
       "      <td>supply_Bonn_store_1 &lt;= open_Bonn</td>\n",
       "      <td>1.0</td>\n",
       "    </tr>\n",
       "    <tr>\n",
       "      <th>1</th>\n",
       "      <td>Bonn</td>\n",
       "      <td>2</td>\n",
       "      <td>supply_Bonn_store_2 &lt;= open_Bonn</td>\n",
       "      <td>1.0</td>\n",
       "    </tr>\n",
       "    <tr>\n",
       "      <th>2</th>\n",
       "      <td>Bonn</td>\n",
       "      <td>3</td>\n",
       "      <td>supply_Bonn_store_3 &lt;= open_Bonn</td>\n",
       "      <td>1.0</td>\n",
       "    </tr>\n",
       "    <tr>\n",
       "      <th>3</th>\n",
       "      <td>Bonn</td>\n",
       "      <td>4</td>\n",
       "      <td>supply_Bonn_store_4 &lt;= open_Bonn</td>\n",
       "      <td>0.0</td>\n",
       "    </tr>\n",
       "    <tr>\n",
       "      <th>4</th>\n",
       "      <td>Bonn</td>\n",
       "      <td>5</td>\n",
       "      <td>supply_Bonn_store_5 &lt;= open_Bonn</td>\n",
       "      <td>1.0</td>\n",
       "    </tr>\n",
       "    <tr>\n",
       "      <th>5</th>\n",
       "      <td>Bonn</td>\n",
       "      <td>6</td>\n",
       "      <td>supply_Bonn_store_6 &lt;= open_Bonn</td>\n",
       "      <td>1.0</td>\n",
       "    </tr>\n",
       "    <tr>\n",
       "      <th>6</th>\n",
       "      <td>Bonn</td>\n",
       "      <td>7</td>\n",
       "      <td>supply_Bonn_store_7 &lt;= open_Bonn</td>\n",
       "      <td>1.0</td>\n",
       "    </tr>\n",
       "    <tr>\n",
       "      <th>7</th>\n",
       "      <td>Bonn</td>\n",
       "      <td>8</td>\n",
       "      <td>supply_Bonn_store_8 &lt;= open_Bonn</td>\n",
       "      <td>1.0</td>\n",
       "    </tr>\n",
       "    <tr>\n",
       "      <th>8</th>\n",
       "      <td>Bonn</td>\n",
       "      <td>9</td>\n",
       "      <td>supply_Bonn_store_9 &lt;= open_Bonn</td>\n",
       "      <td>1.0</td>\n",
       "    </tr>\n",
       "    <tr>\n",
       "      <th>9</th>\n",
       "      <td>Bonn</td>\n",
       "      <td>10</td>\n",
       "      <td>supply_Bonn_store_10 &lt;= open_Bonn</td>\n",
       "      <td>1.0</td>\n",
       "    </tr>\n",
       "    <tr>\n",
       "      <th>10</th>\n",
       "      <td>Bordeaux</td>\n",
       "      <td>1</td>\n",
       "      <td>supply_Bordeaux_store_1 &lt;= open_Bordeaux</td>\n",
       "      <td>1.0</td>\n",
       "    </tr>\n",
       "    <tr>\n",
       "      <th>11</th>\n",
       "      <td>Bordeaux</td>\n",
       "      <td>2</td>\n",
       "      <td>supply_Bordeaux_store_2 &lt;= open_Bordeaux</td>\n",
       "      <td>0.0</td>\n",
       "    </tr>\n",
       "    <tr>\n",
       "      <th>12</th>\n",
       "      <td>Bordeaux</td>\n",
       "      <td>3</td>\n",
       "      <td>supply_Bordeaux_store_3 &lt;= open_Bordeaux</td>\n",
       "      <td>1.0</td>\n",
       "    </tr>\n",
       "    <tr>\n",
       "      <th>13</th>\n",
       "      <td>Bordeaux</td>\n",
       "      <td>4</td>\n",
       "      <td>supply_Bordeaux_store_4 &lt;= open_Bordeaux</td>\n",
       "      <td>1.0</td>\n",
       "    </tr>\n",
       "    <tr>\n",
       "      <th>14</th>\n",
       "      <td>Bordeaux</td>\n",
       "      <td>5</td>\n",
       "      <td>supply_Bordeaux_store_5 &lt;= open_Bordeaux</td>\n",
       "      <td>1.0</td>\n",
       "    </tr>\n",
       "    <tr>\n",
       "      <th>15</th>\n",
       "      <td>Bordeaux</td>\n",
       "      <td>6</td>\n",
       "      <td>supply_Bordeaux_store_6 &lt;= open_Bordeaux</td>\n",
       "      <td>0.0</td>\n",
       "    </tr>\n",
       "    <tr>\n",
       "      <th>16</th>\n",
       "      <td>Bordeaux</td>\n",
       "      <td>7</td>\n",
       "      <td>supply_Bordeaux_store_7 &lt;= open_Bordeaux</td>\n",
       "      <td>0.0</td>\n",
       "    </tr>\n",
       "    <tr>\n",
       "      <th>17</th>\n",
       "      <td>Bordeaux</td>\n",
       "      <td>8</td>\n",
       "      <td>supply_Bordeaux_store_8 &lt;= open_Bordeaux</td>\n",
       "      <td>1.0</td>\n",
       "    </tr>\n",
       "    <tr>\n",
       "      <th>18</th>\n",
       "      <td>Bordeaux</td>\n",
       "      <td>9</td>\n",
       "      <td>supply_Bordeaux_store_9 &lt;= open_Bordeaux</td>\n",
       "      <td>0.0</td>\n",
       "    </tr>\n",
       "    <tr>\n",
       "      <th>19</th>\n",
       "      <td>Bordeaux</td>\n",
       "      <td>10</td>\n",
       "      <td>supply_Bordeaux_store_10 &lt;= open_Bordeaux</td>\n",
       "      <td>1.0</td>\n",
       "    </tr>\n",
       "    <tr>\n",
       "      <th>20</th>\n",
       "      <td>Brussels</td>\n",
       "      <td>1</td>\n",
       "      <td>supply_Brussels_store_1 &lt;= open_Brussels</td>\n",
       "      <td>0.0</td>\n",
       "    </tr>\n",
       "    <tr>\n",
       "      <th>21</th>\n",
       "      <td>Brussels</td>\n",
       "      <td>2</td>\n",
       "      <td>supply_Brussels_store_2 &lt;= open_Brussels</td>\n",
       "      <td>1.0</td>\n",
       "    </tr>\n",
       "    <tr>\n",
       "      <th>22</th>\n",
       "      <td>Brussels</td>\n",
       "      <td>3</td>\n",
       "      <td>supply_Brussels_store_3 &lt;= open_Brussels</td>\n",
       "      <td>1.0</td>\n",
       "    </tr>\n",
       "    <tr>\n",
       "      <th>23</th>\n",
       "      <td>Brussels</td>\n",
       "      <td>4</td>\n",
       "      <td>supply_Brussels_store_4 &lt;= open_Brussels</td>\n",
       "      <td>1.0</td>\n",
       "    </tr>\n",
       "    <tr>\n",
       "      <th>24</th>\n",
       "      <td>Brussels</td>\n",
       "      <td>5</td>\n",
       "      <td>supply_Brussels_store_5 &lt;= open_Brussels</td>\n",
       "      <td>0.0</td>\n",
       "    </tr>\n",
       "    <tr>\n",
       "      <th>25</th>\n",
       "      <td>Brussels</td>\n",
       "      <td>6</td>\n",
       "      <td>supply_Brussels_store_6 &lt;= open_Brussels</td>\n",
       "      <td>1.0</td>\n",
       "    </tr>\n",
       "    <tr>\n",
       "      <th>26</th>\n",
       "      <td>Brussels</td>\n",
       "      <td>7</td>\n",
       "      <td>supply_Brussels_store_7 &lt;= open_Brussels</td>\n",
       "      <td>1.0</td>\n",
       "    </tr>\n",
       "    <tr>\n",
       "      <th>27</th>\n",
       "      <td>Brussels</td>\n",
       "      <td>8</td>\n",
       "      <td>supply_Brussels_store_8 &lt;= open_Brussels</td>\n",
       "      <td>1.0</td>\n",
       "    </tr>\n",
       "    <tr>\n",
       "      <th>28</th>\n",
       "      <td>Brussels</td>\n",
       "      <td>9</td>\n",
       "      <td>supply_Brussels_store_9 &lt;= open_Brussels</td>\n",
       "      <td>1.0</td>\n",
       "    </tr>\n",
       "    <tr>\n",
       "      <th>29</th>\n",
       "      <td>Brussels</td>\n",
       "      <td>10</td>\n",
       "      <td>supply_Brussels_store_10 &lt;= open_Brussels</td>\n",
       "      <td>1.0</td>\n",
       "    </tr>\n",
       "    <tr>\n",
       "      <th>30</th>\n",
       "      <td>London</td>\n",
       "      <td>1</td>\n",
       "      <td>supply_London_store_1 &lt;= open_London</td>\n",
       "      <td>1.0</td>\n",
       "    </tr>\n",
       "    <tr>\n",
       "      <th>31</th>\n",
       "      <td>London</td>\n",
       "      <td>2</td>\n",
       "      <td>supply_London_store_2 &lt;= open_London</td>\n",
       "      <td>1.0</td>\n",
       "    </tr>\n",
       "    <tr>\n",
       "      <th>32</th>\n",
       "      <td>London</td>\n",
       "      <td>3</td>\n",
       "      <td>supply_London_store_3 &lt;= open_London</td>\n",
       "      <td>1.0</td>\n",
       "    </tr>\n",
       "    <tr>\n",
       "      <th>33</th>\n",
       "      <td>London</td>\n",
       "      <td>4</td>\n",
       "      <td>supply_London_store_4 &lt;= open_London</td>\n",
       "      <td>1.0</td>\n",
       "    </tr>\n",
       "    <tr>\n",
       "      <th>34</th>\n",
       "      <td>London</td>\n",
       "      <td>5</td>\n",
       "      <td>supply_London_store_5 &lt;= open_London</td>\n",
       "      <td>1.0</td>\n",
       "    </tr>\n",
       "    <tr>\n",
       "      <th>35</th>\n",
       "      <td>London</td>\n",
       "      <td>6</td>\n",
       "      <td>supply_London_store_6 &lt;= open_London</td>\n",
       "      <td>1.0</td>\n",
       "    </tr>\n",
       "    <tr>\n",
       "      <th>36</th>\n",
       "      <td>London</td>\n",
       "      <td>7</td>\n",
       "      <td>supply_London_store_7 &lt;= open_London</td>\n",
       "      <td>1.0</td>\n",
       "    </tr>\n",
       "    <tr>\n",
       "      <th>37</th>\n",
       "      <td>London</td>\n",
       "      <td>8</td>\n",
       "      <td>supply_London_store_8 &lt;= open_London</td>\n",
       "      <td>0.0</td>\n",
       "    </tr>\n",
       "    <tr>\n",
       "      <th>38</th>\n",
       "      <td>London</td>\n",
       "      <td>9</td>\n",
       "      <td>supply_London_store_9 &lt;= open_London</td>\n",
       "      <td>1.0</td>\n",
       "    </tr>\n",
       "    <tr>\n",
       "      <th>39</th>\n",
       "      <td>London</td>\n",
       "      <td>10</td>\n",
       "      <td>supply_London_store_10 &lt;= open_London</td>\n",
       "      <td>0.0</td>\n",
       "    </tr>\n",
       "    <tr>\n",
       "      <th>40</th>\n",
       "      <td>Paris</td>\n",
       "      <td>1</td>\n",
       "      <td>supply_Paris_store_1 &lt;= open_Paris</td>\n",
       "      <td>0.0</td>\n",
       "    </tr>\n",
       "    <tr>\n",
       "      <th>41</th>\n",
       "      <td>Paris</td>\n",
       "      <td>2</td>\n",
       "      <td>supply_Paris_store_2 &lt;= open_Paris</td>\n",
       "      <td>0.0</td>\n",
       "    </tr>\n",
       "    <tr>\n",
       "      <th>42</th>\n",
       "      <td>Paris</td>\n",
       "      <td>3</td>\n",
       "      <td>supply_Paris_store_3 &lt;= open_Paris</td>\n",
       "      <td>0.0</td>\n",
       "    </tr>\n",
       "    <tr>\n",
       "      <th>43</th>\n",
       "      <td>Paris</td>\n",
       "      <td>4</td>\n",
       "      <td>supply_Paris_store_4 &lt;= open_Paris</td>\n",
       "      <td>0.0</td>\n",
       "    </tr>\n",
       "    <tr>\n",
       "      <th>44</th>\n",
       "      <td>Paris</td>\n",
       "      <td>5</td>\n",
       "      <td>supply_Paris_store_5 &lt;= open_Paris</td>\n",
       "      <td>0.0</td>\n",
       "    </tr>\n",
       "    <tr>\n",
       "      <th>45</th>\n",
       "      <td>Paris</td>\n",
       "      <td>6</td>\n",
       "      <td>supply_Paris_store_6 &lt;= open_Paris</td>\n",
       "      <td>0.0</td>\n",
       "    </tr>\n",
       "    <tr>\n",
       "      <th>46</th>\n",
       "      <td>Paris</td>\n",
       "      <td>7</td>\n",
       "      <td>supply_Paris_store_7 &lt;= open_Paris</td>\n",
       "      <td>0.0</td>\n",
       "    </tr>\n",
       "    <tr>\n",
       "      <th>47</th>\n",
       "      <td>Paris</td>\n",
       "      <td>8</td>\n",
       "      <td>supply_Paris_store_8 &lt;= open_Paris</td>\n",
       "      <td>0.0</td>\n",
       "    </tr>\n",
       "    <tr>\n",
       "      <th>48</th>\n",
       "      <td>Paris</td>\n",
       "      <td>9</td>\n",
       "      <td>supply_Paris_store_9 &lt;= open_Paris</td>\n",
       "      <td>0.0</td>\n",
       "    </tr>\n",
       "    <tr>\n",
       "      <th>49</th>\n",
       "      <td>Paris</td>\n",
       "      <td>10</td>\n",
       "      <td>supply_Paris_store_10 &lt;= open_Paris</td>\n",
       "      <td>0.0</td>\n",
       "    </tr>\n",
       "    <tr>\n",
       "      <th>50</th>\n",
       "      <td>Rome</td>\n",
       "      <td>1</td>\n",
       "      <td>supply_Rome_store_1 &lt;= open_Rome</td>\n",
       "      <td>1.0</td>\n",
       "    </tr>\n",
       "    <tr>\n",
       "      <th>51</th>\n",
       "      <td>Rome</td>\n",
       "      <td>2</td>\n",
       "      <td>supply_Rome_store_2 &lt;= open_Rome</td>\n",
       "      <td>1.0</td>\n",
       "    </tr>\n",
       "    <tr>\n",
       "      <th>52</th>\n",
       "      <td>Rome</td>\n",
       "      <td>3</td>\n",
       "      <td>supply_Rome_store_3 &lt;= open_Rome</td>\n",
       "      <td>0.0</td>\n",
       "    </tr>\n",
       "    <tr>\n",
       "      <th>53</th>\n",
       "      <td>Rome</td>\n",
       "      <td>4</td>\n",
       "      <td>supply_Rome_store_4 &lt;= open_Rome</td>\n",
       "      <td>1.0</td>\n",
       "    </tr>\n",
       "    <tr>\n",
       "      <th>54</th>\n",
       "      <td>Rome</td>\n",
       "      <td>5</td>\n",
       "      <td>supply_Rome_store_5 &lt;= open_Rome</td>\n",
       "      <td>1.0</td>\n",
       "    </tr>\n",
       "    <tr>\n",
       "      <th>55</th>\n",
       "      <td>Rome</td>\n",
       "      <td>6</td>\n",
       "      <td>supply_Rome_store_6 &lt;= open_Rome</td>\n",
       "      <td>1.0</td>\n",
       "    </tr>\n",
       "    <tr>\n",
       "      <th>56</th>\n",
       "      <td>Rome</td>\n",
       "      <td>7</td>\n",
       "      <td>supply_Rome_store_7 &lt;= open_Rome</td>\n",
       "      <td>1.0</td>\n",
       "    </tr>\n",
       "    <tr>\n",
       "      <th>57</th>\n",
       "      <td>Rome</td>\n",
       "      <td>8</td>\n",
       "      <td>supply_Rome_store_8 &lt;= open_Rome</td>\n",
       "      <td>1.0</td>\n",
       "    </tr>\n",
       "    <tr>\n",
       "      <th>58</th>\n",
       "      <td>Rome</td>\n",
       "      <td>9</td>\n",
       "      <td>supply_Rome_store_9 &lt;= open_Rome</td>\n",
       "      <td>1.0</td>\n",
       "    </tr>\n",
       "    <tr>\n",
       "      <th>59</th>\n",
       "      <td>Rome</td>\n",
       "      <td>10</td>\n",
       "      <td>supply_Rome_store_10 &lt;= open_Rome</td>\n",
       "      <td>1.0</td>\n",
       "    </tr>\n",
       "  </tbody>\n",
       "</table>\n",
       "</div>"
      ],
      "text/plain": [
       "   warehouse  store                                          ct  slack\n",
       "0       Bonn      1            supply_Bonn_store_1 <= open_Bonn    1.0\n",
       "1       Bonn      2            supply_Bonn_store_2 <= open_Bonn    1.0\n",
       "2       Bonn      3            supply_Bonn_store_3 <= open_Bonn    1.0\n",
       "3       Bonn      4            supply_Bonn_store_4 <= open_Bonn    0.0\n",
       "4       Bonn      5            supply_Bonn_store_5 <= open_Bonn    1.0\n",
       "5       Bonn      6            supply_Bonn_store_6 <= open_Bonn    1.0\n",
       "6       Bonn      7            supply_Bonn_store_7 <= open_Bonn    1.0\n",
       "7       Bonn      8            supply_Bonn_store_8 <= open_Bonn    1.0\n",
       "8       Bonn      9            supply_Bonn_store_9 <= open_Bonn    1.0\n",
       "9       Bonn     10           supply_Bonn_store_10 <= open_Bonn    1.0\n",
       "10  Bordeaux      1    supply_Bordeaux_store_1 <= open_Bordeaux    1.0\n",
       "11  Bordeaux      2    supply_Bordeaux_store_2 <= open_Bordeaux    0.0\n",
       "12  Bordeaux      3    supply_Bordeaux_store_3 <= open_Bordeaux    1.0\n",
       "13  Bordeaux      4    supply_Bordeaux_store_4 <= open_Bordeaux    1.0\n",
       "14  Bordeaux      5    supply_Bordeaux_store_5 <= open_Bordeaux    1.0\n",
       "15  Bordeaux      6    supply_Bordeaux_store_6 <= open_Bordeaux    0.0\n",
       "16  Bordeaux      7    supply_Bordeaux_store_7 <= open_Bordeaux    0.0\n",
       "17  Bordeaux      8    supply_Bordeaux_store_8 <= open_Bordeaux    1.0\n",
       "18  Bordeaux      9    supply_Bordeaux_store_9 <= open_Bordeaux    0.0\n",
       "19  Bordeaux     10   supply_Bordeaux_store_10 <= open_Bordeaux    1.0\n",
       "20  Brussels      1    supply_Brussels_store_1 <= open_Brussels    0.0\n",
       "21  Brussels      2    supply_Brussels_store_2 <= open_Brussels    1.0\n",
       "22  Brussels      3    supply_Brussels_store_3 <= open_Brussels    1.0\n",
       "23  Brussels      4    supply_Brussels_store_4 <= open_Brussels    1.0\n",
       "24  Brussels      5    supply_Brussels_store_5 <= open_Brussels    0.0\n",
       "25  Brussels      6    supply_Brussels_store_6 <= open_Brussels    1.0\n",
       "26  Brussels      7    supply_Brussels_store_7 <= open_Brussels    1.0\n",
       "27  Brussels      8    supply_Brussels_store_8 <= open_Brussels    1.0\n",
       "28  Brussels      9    supply_Brussels_store_9 <= open_Brussels    1.0\n",
       "29  Brussels     10   supply_Brussels_store_10 <= open_Brussels    1.0\n",
       "30    London      1        supply_London_store_1 <= open_London    1.0\n",
       "31    London      2        supply_London_store_2 <= open_London    1.0\n",
       "32    London      3        supply_London_store_3 <= open_London    1.0\n",
       "33    London      4        supply_London_store_4 <= open_London    1.0\n",
       "34    London      5        supply_London_store_5 <= open_London    1.0\n",
       "35    London      6        supply_London_store_6 <= open_London    1.0\n",
       "36    London      7        supply_London_store_7 <= open_London    1.0\n",
       "37    London      8        supply_London_store_8 <= open_London    0.0\n",
       "38    London      9        supply_London_store_9 <= open_London    1.0\n",
       "39    London     10       supply_London_store_10 <= open_London    0.0\n",
       "40     Paris      1          supply_Paris_store_1 <= open_Paris    0.0\n",
       "41     Paris      2          supply_Paris_store_2 <= open_Paris    0.0\n",
       "42     Paris      3          supply_Paris_store_3 <= open_Paris    0.0\n",
       "43     Paris      4          supply_Paris_store_4 <= open_Paris    0.0\n",
       "44     Paris      5          supply_Paris_store_5 <= open_Paris    0.0\n",
       "45     Paris      6          supply_Paris_store_6 <= open_Paris    0.0\n",
       "46     Paris      7          supply_Paris_store_7 <= open_Paris    0.0\n",
       "47     Paris      8          supply_Paris_store_8 <= open_Paris    0.0\n",
       "48     Paris      9          supply_Paris_store_9 <= open_Paris    0.0\n",
       "49     Paris     10         supply_Paris_store_10 <= open_Paris    0.0\n",
       "50      Rome      1            supply_Rome_store_1 <= open_Rome    1.0\n",
       "51      Rome      2            supply_Rome_store_2 <= open_Rome    1.0\n",
       "52      Rome      3            supply_Rome_store_3 <= open_Rome    0.0\n",
       "53      Rome      4            supply_Rome_store_4 <= open_Rome    1.0\n",
       "54      Rome      5            supply_Rome_store_5 <= open_Rome    1.0\n",
       "55      Rome      6            supply_Rome_store_6 <= open_Rome    1.0\n",
       "56      Rome      7            supply_Rome_store_7 <= open_Rome    1.0\n",
       "57      Rome      8            supply_Rome_store_8 <= open_Rome    1.0\n",
       "58      Rome      9            supply_Rome_store_9 <= open_Rome    1.0\n",
       "59      Rome     10           supply_Rome_store_10 <= open_Rome    1.0"
      ]
     },
     "execution_count": 31,
     "metadata": {},
     "output_type": "execute_result"
    }
   ],
   "source": [
    "# 制約2のスラック表示\n",
    "import pandas as pd\n",
    "def _extract_after_colon(s): return s[s.find(':') + 1:] if ':' in s else ''\n",
    "\n",
    "\n",
    "warehouse = [w.id for w in warehouses for s in stores]\n",
    "store = [s.id for w in warehouses for s in stores]\n",
    "ct2n = [_extract_after_colon(\n",
    "    warehouse_model.get_constraint_by_name(f'ct02_{str(w)}_{str(s)}').to_string())\n",
    "    for w in warehouses for s in stores]\n",
    "ct2s = [warehouse_model.get_constraint_by_name(f'ct02_{str(w)}_{str(s)}').slack_value\n",
    "     for w in warehouses for s in stores]\n",
    "\n",
    "pd.DataFrame({\"warehouse\": warehouse,\n",
    "              \"store\": store,\n",
    "              'ct': ct2n,\n",
    "              'slack': ct2s})"
   ]
  },
  {
   "cell_type": "code",
   "execution_count": 32,
   "metadata": {},
   "outputs": [
    {
     "data": {
      "application/vnd.microsoft.datawrangler.viewer.v0+json": {
       "columns": [
        {
         "name": "index",
         "rawType": "int64",
         "type": "integer"
        },
        {
         "name": "warehouse",
         "rawType": "object",
         "type": "string"
        },
        {
         "name": "ct",
         "rawType": "object",
         "type": "string"
        },
        {
         "name": "slack",
         "rawType": "float64",
         "type": "float"
        }
       ],
       "conversionMethod": "pd.DataFrame",
       "ref": "f4caeb50-ae13-49cc-a254-0d3e4bbb3a78",
       "rows": [
        [
         "0",
         "Bonn",
         " supply_Bonn_store_1+supply_Bonn_store_2+supply_Bonn_store_3+supply_Bonn_store_4+supply_Bonn_store_5+supply_Bonn_store_6+supply_Bonn_store_7+supply_Bonn_store_8+supply_Bonn_store_9+supply_Bonn_store_10 <= 1",
         "0.0"
        ],
        [
         "1",
         "Bordeaux",
         " supply_Bordeaux_store_1+supply_Bordeaux_store_2+supply_Bordeaux_store_3+supply_Bordeaux_store_4+supply_Bordeaux_store_5+supply_Bordeaux_store_6+supply_Bordeaux_store_7+supply_Bordeaux_store_8+supply_Bordeaux_store_9+supply_Bordeaux_store_10 <= 4",
         "0.0"
        ],
        [
         "2",
         "Brussels",
         " supply_Brussels_store_1+supply_Brussels_store_2+supply_Brussels_store_3+supply_Brussels_store_4+supply_Brussels_store_5+supply_Brussels_store_6+supply_Brussels_store_7+supply_Brussels_store_8+supply_Brussels_store_9+supply_Brussels_store_10 <= 2",
         "0.0"
        ],
        [
         "3",
         "London",
         " supply_London_store_1+supply_London_store_2+supply_London_store_3+supply_London_store_4+supply_London_store_5+supply_London_store_6+supply_London_store_7+supply_London_store_8+supply_London_store_9+supply_London_store_10 <= 2",
         "0.0"
        ],
        [
         "4",
         "Paris",
         " supply_Paris_store_1+supply_Paris_store_2+supply_Paris_store_3+supply_Paris_store_4+supply_Paris_store_5+supply_Paris_store_6+supply_Paris_store_7+supply_Paris_store_8+supply_Paris_store_9+supply_Paris_store_10 <= 1",
         "1.0"
        ],
        [
         "5",
         "Rome",
         " supply_Rome_store_1+supply_Rome_store_2+supply_Rome_store_3+supply_Rome_store_4+supply_Rome_store_5+supply_Rome_store_6+supply_Rome_store_7+supply_Rome_store_8+supply_Rome_store_9+supply_Rome_store_10 <= 2",
         "1.0"
        ]
       ],
       "shape": {
        "columns": 3,
        "rows": 6
       }
      },
      "text/html": [
       "<div>\n",
       "<style scoped>\n",
       "    .dataframe tbody tr th:only-of-type {\n",
       "        vertical-align: middle;\n",
       "    }\n",
       "\n",
       "    .dataframe tbody tr th {\n",
       "        vertical-align: top;\n",
       "    }\n",
       "\n",
       "    .dataframe thead th {\n",
       "        text-align: right;\n",
       "    }\n",
       "</style>\n",
       "<table border=\"1\" class=\"dataframe\">\n",
       "  <thead>\n",
       "    <tr style=\"text-align: right;\">\n",
       "      <th></th>\n",
       "      <th>warehouse</th>\n",
       "      <th>ct</th>\n",
       "      <th>slack</th>\n",
       "    </tr>\n",
       "  </thead>\n",
       "  <tbody>\n",
       "    <tr>\n",
       "      <th>0</th>\n",
       "      <td>Bonn</td>\n",
       "      <td>supply_Bonn_store_1+supply_Bonn_store_2+suppl...</td>\n",
       "      <td>0.0</td>\n",
       "    </tr>\n",
       "    <tr>\n",
       "      <th>1</th>\n",
       "      <td>Bordeaux</td>\n",
       "      <td>supply_Bordeaux_store_1+supply_Bordeaux_store...</td>\n",
       "      <td>0.0</td>\n",
       "    </tr>\n",
       "    <tr>\n",
       "      <th>2</th>\n",
       "      <td>Brussels</td>\n",
       "      <td>supply_Brussels_store_1+supply_Brussels_store...</td>\n",
       "      <td>0.0</td>\n",
       "    </tr>\n",
       "    <tr>\n",
       "      <th>3</th>\n",
       "      <td>London</td>\n",
       "      <td>supply_London_store_1+supply_London_store_2+s...</td>\n",
       "      <td>0.0</td>\n",
       "    </tr>\n",
       "    <tr>\n",
       "      <th>4</th>\n",
       "      <td>Paris</td>\n",
       "      <td>supply_Paris_store_1+supply_Paris_store_2+sup...</td>\n",
       "      <td>1.0</td>\n",
       "    </tr>\n",
       "    <tr>\n",
       "      <th>5</th>\n",
       "      <td>Rome</td>\n",
       "      <td>supply_Rome_store_1+supply_Rome_store_2+suppl...</td>\n",
       "      <td>1.0</td>\n",
       "    </tr>\n",
       "  </tbody>\n",
       "</table>\n",
       "</div>"
      ],
      "text/plain": [
       "  warehouse                                                 ct  slack\n",
       "0      Bonn   supply_Bonn_store_1+supply_Bonn_store_2+suppl...    0.0\n",
       "1  Bordeaux   supply_Bordeaux_store_1+supply_Bordeaux_store...    0.0\n",
       "2  Brussels   supply_Brussels_store_1+supply_Brussels_store...    0.0\n",
       "3    London   supply_London_store_1+supply_London_store_2+s...    0.0\n",
       "4     Paris   supply_Paris_store_1+supply_Paris_store_2+sup...    1.0\n",
       "5      Rome   supply_Rome_store_1+supply_Rome_store_2+suppl...    1.0"
      ]
     },
     "execution_count": 32,
     "metadata": {},
     "output_type": "execute_result"
    }
   ],
   "source": [
    "# 制約3のスラック表示\n",
    "\n",
    "warehouse = [w.id for w in warehouses]\n",
    "ct3n = [_extract_after_colon(\n",
    "    warehouse_model.get_constraint_by_name(f'ct03_{str(w)}').to_string())\n",
    "    for w in warehouses]\n",
    "ct3s = [warehouse_model.get_constraint_by_name(f'ct03_{str(w)}').slack_value\n",
    "     for w in warehouses]\n",
    "\n",
    "pd.DataFrame({\"warehouse\": warehouse,\n",
    "              'ct': ct3n,\n",
    "              'slack': ct3s})"
   ]
  },
  {
   "attachments": {},
   "cell_type": "markdown",
   "metadata": {},
   "source": [
    "# 結果の表示\n",
    "グラフィック ツールキットのmaptplotlibを利用して結果を表示できます。 まず、開設コストと供給コストの円グラフを描いて、両方のコストのそれぞれの影響を明確に見てみましょう。"
   ]
  },
  {
   "cell_type": "code",
   "execution_count": 33,
   "metadata": {},
   "outputs": [
    {
     "data": {
      "image/png": "[encoded data removed]",
      "text/plain": [
       "<Figure size 640x480 with 1 Axes>"
      ]
     },
     "metadata": {},
     "output_type": "display_data"
    }
   ],
   "source": [
    "# 開設コストと供給コストの割合\n",
    "if env.has_matplotlib:\n",
    "    import matplotlib.pyplot as plt\n",
    "    %matplotlib inline\n",
    "\n",
    "def display_costs(costs, labels, colors):\n",
    "    if env.has_matplotlib:\n",
    "        plt.axis(\"equal\")\n",
    "        plt.pie(costs, labels=labels, colors=colors, autopct=\"%1.1f%%\")\n",
    "        plt.show()\n",
    "    else:\n",
    "        print(\"warning: no display\")\n",
    "\n",
    "display_costs(costs=[opening_cost_obj, supply_cost_obj],\n",
    "              labels=[\"Opening Costs\", \"Supply Costs\"],\n",
    "              colors=[\"gold\", \"lightBlue\"])"
   ]
  },
  {
   "attachments": {},
   "cell_type": "markdown",
   "metadata": {},
   "source": [
    "倉庫ごとの供給コストの内訳も表示できます。 まず、各倉庫の供給コスト値の合計を計算します。変数が true であるペア (w, s) について、w から s までの実際の供給コストを合計する必要があります (ここでは、値が >=0.9 であることをテストします)。 1 に等しい場合は、数値精度の問題により堅牢ではありません)"
   ]
  },
  {
   "cell_type": "code",
   "execution_count": 34,
   "metadata": {},
   "outputs": [
    {
     "data": {
      "image/png": "[encoded data removed]",
      "text/plain": [
       "<Figure size 640x480 with 1 Axes>"
      ]
     },
     "metadata": {},
     "output_type": "display_data"
    }
   ],
   "source": [
    "# 倉庫ごとの供給コストの割合\n",
    "supply_cost_by_warehouse = [sum(supply_costs[w][s.id - 1]  \n",
    "                                for s in stores if supply_vars[w,s].solution_value >= 0.9)\n",
    "                             for w in warehouses]\n",
    "wh_labels = [w.id for w in warehouses]\n",
    "display_costs(supply_cost_by_warehouse, wh_labels, None)"
   ]
  },
  {
   "attachments": {},
   "cell_type": "markdown",
   "metadata": {},
   "source": [
    "# パレートフロンティアの探索\n",
    "2 つのコストの合計を最小化することでモデルを解決し、開設コスト = 140、供給コスト = 293 で合計コスト 443 の最適解が得られたことを思い出してください。\n",
    "\n",
    "場合によっては、これら 2 つのコストの絶対最小値はいくらなのか疑問に思うことも興味深いかもしれません。まず開設コストを最小限に抑え、次に供給コストを最小限に抑えたい場合はどうなるでしょうか (もちろん、前に得た最良の運営コストを維持します) 第1段階。\n",
    "\n",
    "これは、モデルで「set_multi_objective」メソッド(旧solve_lexicographic)を使用する DOcplex で非常に簡単に実現できます。 このメソッドは 2 つの引数を取ります。最初の引数は式のリスト、2 番目の引数は感覚 (最小化または最大化) のリストで、デフォルトでは各式を最小化します。\n",
    "\n",
    "このセクションでは、開店コストを最小化してから供給コストを最小化した場合と、逆に供給コストを最小化してから開店コストを最小化した場合に何が起こるかを検討します。"
   ]
  },
  {
   "cell_type": "code",
   "execution_count": 35,
   "metadata": {},
   "outputs": [
    {
     "name": "stdout",
     "output_type": "stream",
     "text": [
      "total opening cost=120\n",
      "total supply cost=352\n",
      "toltal cost is 472\n"
     ]
    }
   ],
   "source": [
    "# 開設コストを優先して最小化する\n",
    "warehouse_model.set_multi_objective(\n",
    "    sense=\"min\", exprs=[total_opening_cost, total_supply_cost], priorities=[1, 0])\n",
    "ok = warehouse_model.solve()\n",
    "opening1 = total_opening_cost.solution_value\n",
    "supply1 = total_supply_cost.solution_value\n",
    "\n",
    "print(\"total opening cost=%g\" % opening1)\n",
    "print(\"total supply cost=%g\" % supply1)\n",
    "print(\"toltal cost is %g\" % (opening1 + supply1))\n",
    "\n",
    "results.append((opening1, supply1))"
   ]
  },
  {
   "cell_type": "markdown",
   "metadata": {},
   "source": [
    "このことから、モデルは 2 回正常に解決され、オープニング コストの絶対最小値は 120 であり、この値に対して最小供給コストは 352 であることがわかります。最初の試行では、合計を最小化して (140,293) を取得しましたが、今では 120 が達成できる最良の値であることがわかりました。供給コストは 352 になり、合計コストは 472 になります。これは、合計を最適化したときに見つかった 433 という値よりも確かに大きいです。\n",
    "\n",
    "次に、逆のことを行います。つまり、供給コストを最小化し、次にオープニング コストを最小化します。合計供給コストを最小化するという目標が、合計オープニング コストを最適化するという 2 番目の目標に取って代わったらどうなるでしょうか。コードは簡単です。"
   ]
  },
  {
   "cell_type": "code",
   "execution_count": 36,
   "metadata": {},
   "outputs": [
    {
     "name": "stdout",
     "output_type": "stream",
     "text": [
      "total opening cost=152\n",
      "total supply cost=288\n",
      "toltal cost is 440\n"
     ]
    }
   ],
   "source": [
    "# 供給コストを優先して最小化する\n",
    "warehouse_model.set_multi_objective(\n",
    "    sense=\"min\", exprs=[total_opening_cost, total_supply_cost], priorities=[0, 1])\n",
    "ok = warehouse_model.solve()\n",
    "opening2 = total_opening_cost.solution_value\n",
    "supply2 = total_supply_cost.solution_value\n",
    "\n",
    "print(\"total opening cost=%g\" % opening2)\n",
    "print(\"total supply cost=%g\" % supply2)\n",
    "print(\"toltal cost is %g\" % (opening2 + supply2))\n",
    "\n",
    "results.append((opening2, supply2))"
   ]
  },
  {
   "cell_type": "markdown",
   "metadata": {},
   "source": [
    "ここでは、(152, 288) が得られ、供給コストは 352 から 288 に下がりますが、開始コストは 120 から 152 に上がります。合計は 288+152 = 440 であることが確認できます。これは、最初に見つけた最適値 433 よりも大きいです。"
   ]
  },
  {
   "cell_type": "markdown",
   "metadata": {},
   "source": [
    "# パレート図\n",
    "合計の最適化結果、開始コスト優先、供給コスト優先の3 つの点を (開始コスト、供給コスト) 散布図にします。"
   ]
  },
  {
   "cell_type": "code",
   "execution_count": 37,
   "metadata": {},
   "outputs": [
    {
     "name": "stdout",
     "output_type": "stream",
     "text": [
      "[(140.0, 293.0), (120.0, 352.0), (152.0, 288.0)]\n"
     ]
    },
    {
     "data": {
      "image/png": "[encoded data removed]",
      "text/plain": [
       "<Figure size 640x480 with 1 Axes>"
      ]
     },
     "metadata": {},
     "output_type": "display_data"
    }
   ],
   "source": [
    "# パレート図\n",
    "print (results)\n",
    "def display_pareto(res):\n",
    "    if env.has_matplotlib:\n",
    "        plt.cla()\n",
    "        plt.xlabel('Opening Costs')\n",
    "        plt.ylabel('Supply Costs')\n",
    "        colors = ['g', 'r', 'b']\n",
    "        markers = ['o', '<', '>']\n",
    "        nb_res = len(res)\n",
    "        pts = []\n",
    "        for i, r in enumerate(res):\n",
    "            opening, supply = r\n",
    "            p = plt.scatter(opening, supply, color=colors[i%3], s=50+10*i, marker=markers[i%3])\n",
    "            pts.append(p)\n",
    "        plt.legend(pts,\n",
    "               ('Sum', 'Opening_first', 'Supply_first'),\n",
    "               scatterpoints=1,\n",
    "               loc='best',\n",
    "               ncol=3,\n",
    "               fontsize=8)\n",
    "        plt.show()\n",
    "    else:\n",
    "        print(\"Warning: no display\")\n",
    "\n",
    "display_pareto(results)"
   ]
  },
  {
   "cell_type": "code",
   "execution_count": null,
   "metadata": {},
   "outputs": [],
   "source": []
  }
 ],
 "metadata": {
  "kernelspec": {
   "display_name": "Python 3",
   "language": "python",
   "name": "python3"
  },
  "language_info": {
   "codemirror_mode": {
    "name": "ipython",
    "version": 3
   },
   "file_extension": ".py",
   "mimetype": "text/x-python",
   "name": "python",
   "nbconvert_exporter": "python",
   "pygments_lexer": "ipython3",
   "version": "3.10.9"
  },
  "orig_nbformat": 4
 },
 "nbformat": 4,
 "nbformat_minor": 2
}
